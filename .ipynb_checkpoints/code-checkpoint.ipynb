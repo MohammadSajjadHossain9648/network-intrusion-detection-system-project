{
 "cells": [
  {
   "cell_type": "code",
   "execution_count": 1,
   "metadata": {},
   "outputs": [],
   "source": [
    "import numpy as np\n",
    "import pandas as pd\n",
    "import matplotlib.pyplot as plt\n",
    "import seaborn as sns\n",
    "import math\n",
    "%matplotlib inline\n",
    "from sklearn import preprocessing \n",
    "from sklearn.feature_selection import SelectKBest\n",
    "from sklearn.feature_selection import f_classif\n",
    "from sklearn.feature_selection import chi2\n",
    "from sklearn.ensemble import ExtraTreesClassifier\n",
    "from sklearn.model_selection import train_test_split\n",
    "from sklearn.metrics import accuracy_score\n",
    "from sklearn.metrics import classification_report\n",
    "from sklearn.metrics import confusion_matrix\n",
    "from sklearn import tree\n",
    "from sklearn.neural_network import MLPClassifier\n",
    "from sklearn.ensemble import RandomForestClassifier\n",
    "from sklearn.neighbors import KNeighborsClassifier\n",
    "from sklearn.naive_bayes import GaussianNB\n",
    "from sklearn.svm import SVC"
   ]
  },
  {
   "cell_type": "code",
   "execution_count": 2,
   "metadata": {},
   "outputs": [],
   "source": [
    "data=pd.read_csv(r\"C:\\Users\\TNF\\Desktop\\thesis\\Train_data.csv\")"
   ]
  },
  {
   "cell_type": "code",
   "execution_count": 3,
   "metadata": {},
   "outputs": [
    {
     "data": {
      "text/plain": [
       "array(['tcp', 'udp', 'icmp'], dtype=object)"
      ]
     },
     "execution_count": 3,
     "metadata": {},
     "output_type": "execute_result"
    }
   ],
   "source": [
    "data['protocol_type'].unique()"
   ]
  },
  {
   "cell_type": "code",
   "execution_count": 4,
   "metadata": {},
   "outputs": [
    {
     "data": {
      "text/plain": [
       "array([1, 2, 0])"
      ]
     },
     "execution_count": 4,
     "metadata": {},
     "output_type": "execute_result"
    }
   ],
   "source": [
    "label_encoder = preprocessing.LabelEncoder()\n",
    "data['protocol_type']= label_encoder.fit_transform(data['protocol_type'])\n",
    "data['protocol_type'].unique()"
   ]
  },
  {
   "cell_type": "code",
   "execution_count": 5,
   "metadata": {},
   "outputs": [
    {
     "data": {
      "text/plain": [
       "array(['ftp_data', 'other', 'private', 'http', 'remote_job', 'name',\n",
       "       'netbios_ns', 'eco_i', 'mtp', 'telnet', 'finger', 'domain_u',\n",
       "       'supdup', 'uucp_path', 'Z39_50', 'smtp', 'csnet_ns', 'uucp',\n",
       "       'netbios_dgm', 'urp_i', 'auth', 'domain', 'ftp', 'bgp', 'ldap',\n",
       "       'ecr_i', 'gopher', 'vmnet', 'systat', 'http_443', 'efs', 'whois',\n",
       "       'imap4', 'iso_tsap', 'echo', 'klogin', 'link', 'sunrpc', 'login',\n",
       "       'kshell', 'sql_net', 'time', 'hostnames', 'exec', 'ntp_u',\n",
       "       'discard', 'nntp', 'courier', 'ctf', 'ssh', 'daytime', 'shell',\n",
       "       'netstat', 'pop_3', 'nnsp', 'IRC', 'pop_2', 'printer', 'tim_i',\n",
       "       'pm_dump', 'red_i', 'netbios_ssn', 'rje', 'X11', 'urh_i',\n",
       "       'http_8001'], dtype=object)"
      ]
     },
     "execution_count": 5,
     "metadata": {},
     "output_type": "execute_result"
    }
   ],
   "source": [
    "data['service'].unique()"
   ]
  },
  {
   "cell_type": "code",
   "execution_count": 6,
   "metadata": {},
   "outputs": [
    {
     "data": {
      "text/plain": [
       "array([19, 41, 46, 22, 48, 33, 35, 13, 32, 57, 17, 11, 55, 63,  2, 51,  6,\n",
       "       62, 34, 61,  3, 10, 18,  4, 29, 14, 20, 64, 56, 23, 15, 65, 25, 26,\n",
       "       12, 27, 30, 54, 31, 28, 52, 59, 21, 16, 40,  9, 39,  5,  7, 53,  8,\n",
       "       50, 37, 44, 38,  0, 43, 45, 58, 42, 47, 36, 49,  1, 60, 24])"
      ]
     },
     "execution_count": 6,
     "metadata": {},
     "output_type": "execute_result"
    }
   ],
   "source": [
    "label_encoder = preprocessing.LabelEncoder()\n",
    "data['service']= label_encoder.fit_transform(data['service'])\n",
    "data['service'].unique()"
   ]
  },
  {
   "cell_type": "code",
   "execution_count": 7,
   "metadata": {},
   "outputs": [
    {
     "data": {
      "text/plain": [
       "array(['SF', 'S0', 'REJ', 'RSTR', 'SH', 'RSTO', 'S1', 'RSTOS0', 'S3',\n",
       "       'S2', 'OTH'], dtype=object)"
      ]
     },
     "execution_count": 7,
     "metadata": {},
     "output_type": "execute_result"
    }
   ],
   "source": [
    "data['flag'].unique()"
   ]
  },
  {
   "cell_type": "code",
   "execution_count": 8,
   "metadata": {},
   "outputs": [
    {
     "data": {
      "text/plain": [
       "array([ 9,  5,  1,  4, 10,  2,  6,  3,  8,  7,  0])"
      ]
     },
     "execution_count": 8,
     "metadata": {},
     "output_type": "execute_result"
    }
   ],
   "source": [
    "label_encoder = preprocessing.LabelEncoder()\n",
    "data['flag']= label_encoder.fit_transform(data['flag'])\n",
    "data['flag'].unique()"
   ]
  },
  {
   "cell_type": "code",
   "execution_count": 9,
   "metadata": {},
   "outputs": [],
   "source": [
    "features = data.columns"
   ]
  },
  {
   "cell_type": "code",
   "execution_count": 10,
   "metadata": {},
   "outputs": [],
   "source": [
    "features = [x for x in features if x != 'class']"
   ]
  },
  {
   "cell_type": "code",
   "execution_count": 11,
   "metadata": {},
   "outputs": [
    {
     "data": {
      "text/html": [
       "<div>\n",
       "<style scoped>\n",
       "    .dataframe tbody tr th:only-of-type {\n",
       "        vertical-align: middle;\n",
       "    }\n",
       "\n",
       "    .dataframe tbody tr th {\n",
       "        vertical-align: top;\n",
       "    }\n",
       "\n",
       "    .dataframe thead th {\n",
       "        text-align: right;\n",
       "    }\n",
       "</style>\n",
       "<table border=\"1\" class=\"dataframe\">\n",
       "  <thead>\n",
       "    <tr style=\"text-align: right;\">\n",
       "      <th></th>\n",
       "      <th>duration</th>\n",
       "      <th>protocol_type</th>\n",
       "      <th>service</th>\n",
       "      <th>flag</th>\n",
       "      <th>src_bytes</th>\n",
       "      <th>dst_bytes</th>\n",
       "      <th>land</th>\n",
       "      <th>wrong_fragment</th>\n",
       "      <th>urgent</th>\n",
       "      <th>hot</th>\n",
       "      <th>...</th>\n",
       "      <th>dst_host_count</th>\n",
       "      <th>dst_host_srv_count</th>\n",
       "      <th>dst_host_same_srv_rate</th>\n",
       "      <th>dst_host_diff_srv_rate</th>\n",
       "      <th>dst_host_same_src_port_rate</th>\n",
       "      <th>dst_host_srv_diff_host_rate</th>\n",
       "      <th>dst_host_serror_rate</th>\n",
       "      <th>dst_host_srv_serror_rate</th>\n",
       "      <th>dst_host_rerror_rate</th>\n",
       "      <th>dst_host_srv_rerror_rate</th>\n",
       "    </tr>\n",
       "  </thead>\n",
       "  <tbody>\n",
       "    <tr>\n",
       "      <th>duration</th>\n",
       "      <td>1.000000</td>\n",
       "      <td>0.036421</td>\n",
       "      <td>0.101301</td>\n",
       "      <td>-0.066634</td>\n",
       "      <td>0.084864</td>\n",
       "      <td>0.013258</td>\n",
       "      <td>-0.001012</td>\n",
       "      <td>-0.010358</td>\n",
       "      <td>-0.000486</td>\n",
       "      <td>0.004202</td>\n",
       "      <td>...</td>\n",
       "      <td>0.055174</td>\n",
       "      <td>-0.112530</td>\n",
       "      <td>-0.119321</td>\n",
       "      <td>0.263489</td>\n",
       "      <td>0.240970</td>\n",
       "      <td>-0.025485</td>\n",
       "      <td>-0.066513</td>\n",
       "      <td>-0.066240</td>\n",
       "      <td>0.187070</td>\n",
       "      <td>0.208435</td>\n",
       "    </tr>\n",
       "    <tr>\n",
       "      <th>protocol_type</th>\n",
       "      <td>0.036421</td>\n",
       "      <td>1.000000</td>\n",
       "      <td>0.025322</td>\n",
       "      <td>0.094926</td>\n",
       "      <td>-0.001286</td>\n",
       "      <td>-0.004734</td>\n",
       "      <td>-0.001123</td>\n",
       "      <td>0.176420</td>\n",
       "      <td>-0.000794</td>\n",
       "      <td>-0.011589</td>\n",
       "      <td>...</td>\n",
       "      <td>0.238318</td>\n",
       "      <td>0.104292</td>\n",
       "      <td>0.004797</td>\n",
       "      <td>0.131609</td>\n",
       "      <td>-0.206137</td>\n",
       "      <td>-0.360518</td>\n",
       "      <td>-0.080432</td>\n",
       "      <td>-0.079086</td>\n",
       "      <td>-0.018424</td>\n",
       "      <td>-0.047182</td>\n",
       "    </tr>\n",
       "    <tr>\n",
       "      <th>service</th>\n",
       "      <td>0.101301</td>\n",
       "      <td>0.025322</td>\n",
       "      <td>1.000000</td>\n",
       "      <td>-0.295491</td>\n",
       "      <td>0.008554</td>\n",
       "      <td>-0.013782</td>\n",
       "      <td>-0.006896</td>\n",
       "      <td>0.088169</td>\n",
       "      <td>0.011325</td>\n",
       "      <td>-0.056165</td>\n",
       "      <td>...</td>\n",
       "      <td>0.184684</td>\n",
       "      <td>-0.409442</td>\n",
       "      <td>-0.450546</td>\n",
       "      <td>0.280962</td>\n",
       "      <td>-0.101749</td>\n",
       "      <td>-0.153359</td>\n",
       "      <td>0.276906</td>\n",
       "      <td>0.273472</td>\n",
       "      <td>0.141211</td>\n",
       "      <td>0.142865</td>\n",
       "    </tr>\n",
       "    <tr>\n",
       "      <th>flag</th>\n",
       "      <td>-0.066634</td>\n",
       "      <td>0.094926</td>\n",
       "      <td>-0.295491</td>\n",
       "      <td>1.000000</td>\n",
       "      <td>-0.006599</td>\n",
       "      <td>0.027606</td>\n",
       "      <td>-0.006593</td>\n",
       "      <td>0.068693</td>\n",
       "      <td>0.004744</td>\n",
       "      <td>0.067027</td>\n",
       "      <td>...</td>\n",
       "      <td>-0.319355</td>\n",
       "      <td>0.584087</td>\n",
       "      <td>0.634415</td>\n",
       "      <td>-0.284016</td>\n",
       "      <td>0.194528</td>\n",
       "      <td>0.078870</td>\n",
       "      <td>-0.447140</td>\n",
       "      <td>-0.447007</td>\n",
       "      <td>-0.680849</td>\n",
       "      <td>-0.716075</td>\n",
       "    </tr>\n",
       "    <tr>\n",
       "      <th>src_bytes</th>\n",
       "      <td>0.084864</td>\n",
       "      <td>-0.001286</td>\n",
       "      <td>0.008554</td>\n",
       "      <td>-0.006599</td>\n",
       "      <td>1.000000</td>\n",
       "      <td>0.003611</td>\n",
       "      <td>-0.000090</td>\n",
       "      <td>-0.000916</td>\n",
       "      <td>-0.000062</td>\n",
       "      <td>0.000995</td>\n",
       "      <td>...</td>\n",
       "      <td>-0.009764</td>\n",
       "      <td>-0.008520</td>\n",
       "      <td>-0.006776</td>\n",
       "      <td>0.001026</td>\n",
       "      <td>0.002316</td>\n",
       "      <td>-0.001238</td>\n",
       "      <td>-0.006346</td>\n",
       "      <td>-0.006227</td>\n",
       "      <td>-0.002130</td>\n",
       "      <td>0.006190</td>\n",
       "    </tr>\n",
       "    <tr>\n",
       "      <th>dst_bytes</th>\n",
       "      <td>0.013258</td>\n",
       "      <td>-0.004734</td>\n",
       "      <td>-0.013782</td>\n",
       "      <td>0.027606</td>\n",
       "      <td>0.003611</td>\n",
       "      <td>1.000000</td>\n",
       "      <td>-0.000350</td>\n",
       "      <td>-0.003586</td>\n",
       "      <td>0.000345</td>\n",
       "      <td>0.002539</td>\n",
       "      <td>...</td>\n",
       "      <td>-0.030930</td>\n",
       "      <td>-0.000980</td>\n",
       "      <td>0.022392</td>\n",
       "      <td>-0.012971</td>\n",
       "      <td>0.024078</td>\n",
       "      <td>-0.006006</td>\n",
       "      <td>-0.015584</td>\n",
       "      <td>-0.014543</td>\n",
       "      <td>-0.014094</td>\n",
       "      <td>-0.012803</td>\n",
       "    </tr>\n",
       "    <tr>\n",
       "      <th>land</th>\n",
       "      <td>-0.001012</td>\n",
       "      <td>-0.001123</td>\n",
       "      <td>-0.006896</td>\n",
       "      <td>-0.006593</td>\n",
       "      <td>-0.000090</td>\n",
       "      <td>-0.000350</td>\n",
       "      <td>1.000000</td>\n",
       "      <td>-0.000813</td>\n",
       "      <td>-0.000056</td>\n",
       "      <td>-0.000819</td>\n",
       "      <td>...</td>\n",
       "      <td>-0.016340</td>\n",
       "      <td>-0.008743</td>\n",
       "      <td>0.009531</td>\n",
       "      <td>-0.003929</td>\n",
       "      <td>0.024635</td>\n",
       "      <td>0.053037</td>\n",
       "      <td>0.014291</td>\n",
       "      <td>0.005596</td>\n",
       "      <td>-0.003432</td>\n",
       "      <td>-0.003335</td>\n",
       "    </tr>\n",
       "    <tr>\n",
       "      <th>wrong_fragment</th>\n",
       "      <td>-0.010358</td>\n",
       "      <td>0.176420</td>\n",
       "      <td>0.088169</td>\n",
       "      <td>0.068693</td>\n",
       "      <td>-0.000916</td>\n",
       "      <td>-0.003586</td>\n",
       "      <td>-0.000813</td>\n",
       "      <td>1.000000</td>\n",
       "      <td>-0.000575</td>\n",
       "      <td>-0.008386</td>\n",
       "      <td>...</td>\n",
       "      <td>0.040020</td>\n",
       "      <td>-0.047256</td>\n",
       "      <td>-0.051845</td>\n",
       "      <td>0.053177</td>\n",
       "      <td>0.034670</td>\n",
       "      <td>-0.020174</td>\n",
       "      <td>-0.053786</td>\n",
       "      <td>-0.057230</td>\n",
       "      <td>0.027718</td>\n",
       "      <td>-0.034143</td>\n",
       "    </tr>\n",
       "    <tr>\n",
       "      <th>urgent</th>\n",
       "      <td>-0.000486</td>\n",
       "      <td>-0.000794</td>\n",
       "      <td>0.011325</td>\n",
       "      <td>0.004744</td>\n",
       "      <td>-0.000062</td>\n",
       "      <td>0.000345</td>\n",
       "      <td>-0.000056</td>\n",
       "      <td>-0.000575</td>\n",
       "      <td>1.000000</td>\n",
       "      <td>0.002346</td>\n",
       "      <td>...</td>\n",
       "      <td>0.004612</td>\n",
       "      <td>-0.006324</td>\n",
       "      <td>-0.007014</td>\n",
       "      <td>-0.002105</td>\n",
       "      <td>-0.003013</td>\n",
       "      <td>-0.001815</td>\n",
       "      <td>-0.004044</td>\n",
       "      <td>-0.003953</td>\n",
       "      <td>-0.002427</td>\n",
       "      <td>-0.002358</td>\n",
       "    </tr>\n",
       "    <tr>\n",
       "      <th>hot</th>\n",
       "      <td>0.004202</td>\n",
       "      <td>-0.011589</td>\n",
       "      <td>-0.056165</td>\n",
       "      <td>0.067027</td>\n",
       "      <td>0.000995</td>\n",
       "      <td>0.002539</td>\n",
       "      <td>-0.000819</td>\n",
       "      <td>-0.008386</td>\n",
       "      <td>0.002346</td>\n",
       "      <td>1.000000</td>\n",
       "      <td>...</td>\n",
       "      <td>-0.009083</td>\n",
       "      <td>-0.048495</td>\n",
       "      <td>-0.033442</td>\n",
       "      <td>-0.007962</td>\n",
       "      <td>-0.030640</td>\n",
       "      <td>-0.021170</td>\n",
       "      <td>-0.055628</td>\n",
       "      <td>-0.056255</td>\n",
       "      <td>-0.027628</td>\n",
       "      <td>-0.029719</td>\n",
       "    </tr>\n",
       "    <tr>\n",
       "      <th>num_failed_logins</th>\n",
       "      <td>0.011108</td>\n",
       "      <td>-0.003305</td>\n",
       "      <td>0.029601</td>\n",
       "      <td>-0.010920</td>\n",
       "      <td>-0.000260</td>\n",
       "      <td>0.005197</td>\n",
       "      <td>-0.000234</td>\n",
       "      <td>-0.002392</td>\n",
       "      <td>-0.000165</td>\n",
       "      <td>0.004893</td>\n",
       "      <td>...</td>\n",
       "      <td>-0.026460</td>\n",
       "      <td>-0.022315</td>\n",
       "      <td>-0.003336</td>\n",
       "      <td>0.000298</td>\n",
       "      <td>-0.008910</td>\n",
       "      <td>-0.007551</td>\n",
       "      <td>-0.009527</td>\n",
       "      <td>-0.010238</td>\n",
       "      <td>0.016791</td>\n",
       "      <td>0.018693</td>\n",
       "    </tr>\n",
       "    <tr>\n",
       "      <th>logged_in</th>\n",
       "      <td>-0.063703</td>\n",
       "      <td>-0.101810</td>\n",
       "      <td>-0.138824</td>\n",
       "      <td>0.587882</td>\n",
       "      <td>-0.002040</td>\n",
       "      <td>0.012704</td>\n",
       "      <td>-0.007196</td>\n",
       "      <td>-0.073674</td>\n",
       "      <td>0.007801</td>\n",
       "      <td>0.113115</td>\n",
       "      <td>...</td>\n",
       "      <td>-0.395905</td>\n",
       "      <td>0.624839</td>\n",
       "      <td>0.607379</td>\n",
       "      <td>-0.255820</td>\n",
       "      <td>-0.159278</td>\n",
       "      <td>-0.057390</td>\n",
       "      <td>-0.490450</td>\n",
       "      <td>-0.492446</td>\n",
       "      <td>-0.274430</td>\n",
       "      <td>-0.270507</td>\n",
       "    </tr>\n",
       "    <tr>\n",
       "      <th>num_compromised</th>\n",
       "      <td>0.095215</td>\n",
       "      <td>-0.002757</td>\n",
       "      <td>0.037699</td>\n",
       "      <td>0.011328</td>\n",
       "      <td>-0.000196</td>\n",
       "      <td>0.035852</td>\n",
       "      <td>-0.000195</td>\n",
       "      <td>-0.001995</td>\n",
       "      <td>0.002886</td>\n",
       "      <td>0.002005</td>\n",
       "      <td>...</td>\n",
       "      <td>-0.015637</td>\n",
       "      <td>-0.018220</td>\n",
       "      <td>-0.011794</td>\n",
       "      <td>0.001757</td>\n",
       "      <td>-0.004146</td>\n",
       "      <td>0.013608</td>\n",
       "      <td>-0.007911</td>\n",
       "      <td>-0.007716</td>\n",
       "      <td>-0.007199</td>\n",
       "      <td>-0.004361</td>\n",
       "    </tr>\n",
       "    <tr>\n",
       "      <th>root_shell</th>\n",
       "      <td>0.050547</td>\n",
       "      <td>-0.004964</td>\n",
       "      <td>0.038780</td>\n",
       "      <td>0.019854</td>\n",
       "      <td>-0.000383</td>\n",
       "      <td>0.020214</td>\n",
       "      <td>-0.000351</td>\n",
       "      <td>-0.003592</td>\n",
       "      <td>0.160007</td>\n",
       "      <td>0.021221</td>\n",
       "      <td>...</td>\n",
       "      <td>-0.036093</td>\n",
       "      <td>-0.009978</td>\n",
       "      <td>0.011376</td>\n",
       "      <td>-0.006575</td>\n",
       "      <td>0.010541</td>\n",
       "      <td>0.018975</td>\n",
       "      <td>-0.022098</td>\n",
       "      <td>-0.020584</td>\n",
       "      <td>-0.011765</td>\n",
       "      <td>-0.010952</td>\n",
       "    </tr>\n",
       "    <tr>\n",
       "      <th>su_attempted</th>\n",
       "      <td>0.094243</td>\n",
       "      <td>-0.003488</td>\n",
       "      <td>0.049729</td>\n",
       "      <td>0.010203</td>\n",
       "      <td>-0.000267</td>\n",
       "      <td>0.035041</td>\n",
       "      <td>-0.000247</td>\n",
       "      <td>-0.002524</td>\n",
       "      <td>-0.000174</td>\n",
       "      <td>0.000478</td>\n",
       "      <td>...</td>\n",
       "      <td>-0.024109</td>\n",
       "      <td>-0.025056</td>\n",
       "      <td>-0.014650</td>\n",
       "      <td>0.002928</td>\n",
       "      <td>-0.002252</td>\n",
       "      <td>0.015875</td>\n",
       "      <td>-0.010940</td>\n",
       "      <td>-0.008692</td>\n",
       "      <td>-0.005068</td>\n",
       "      <td>-0.003124</td>\n",
       "    </tr>\n",
       "    <tr>\n",
       "      <th>num_root</th>\n",
       "      <td>0.094066</td>\n",
       "      <td>-0.002739</td>\n",
       "      <td>0.035444</td>\n",
       "      <td>0.011244</td>\n",
       "      <td>-0.000209</td>\n",
       "      <td>0.035171</td>\n",
       "      <td>-0.000194</td>\n",
       "      <td>-0.001982</td>\n",
       "      <td>0.007533</td>\n",
       "      <td>0.000703</td>\n",
       "      <td>...</td>\n",
       "      <td>-0.016143</td>\n",
       "      <td>-0.018332</td>\n",
       "      <td>-0.012409</td>\n",
       "      <td>0.002327</td>\n",
       "      <td>-0.002507</td>\n",
       "      <td>0.013526</td>\n",
       "      <td>-0.008318</td>\n",
       "      <td>-0.007920</td>\n",
       "      <td>-0.007042</td>\n",
       "      <td>-0.004610</td>\n",
       "    </tr>\n",
       "    <tr>\n",
       "      <th>num_file_creations</th>\n",
       "      <td>0.088272</td>\n",
       "      <td>-0.003505</td>\n",
       "      <td>0.041996</td>\n",
       "      <td>0.014366</td>\n",
       "      <td>-0.000218</td>\n",
       "      <td>0.008456</td>\n",
       "      <td>-0.000248</td>\n",
       "      <td>-0.002537</td>\n",
       "      <td>0.011722</td>\n",
       "      <td>0.067417</td>\n",
       "      <td>...</td>\n",
       "      <td>0.002264</td>\n",
       "      <td>-0.022402</td>\n",
       "      <td>-0.022507</td>\n",
       "      <td>0.006386</td>\n",
       "      <td>-0.009671</td>\n",
       "      <td>0.002682</td>\n",
       "      <td>0.001272</td>\n",
       "      <td>-0.006771</td>\n",
       "      <td>-0.004493</td>\n",
       "      <td>-0.002722</td>\n",
       "    </tr>\n",
       "    <tr>\n",
       "      <th>num_shells</th>\n",
       "      <td>-0.001585</td>\n",
       "      <td>-0.002383</td>\n",
       "      <td>-0.007069</td>\n",
       "      <td>0.014236</td>\n",
       "      <td>-0.000158</td>\n",
       "      <td>-0.000146</td>\n",
       "      <td>-0.000168</td>\n",
       "      <td>-0.001725</td>\n",
       "      <td>-0.000119</td>\n",
       "      <td>0.012888</td>\n",
       "      <td>...</td>\n",
       "      <td>-0.008526</td>\n",
       "      <td>-0.011990</td>\n",
       "      <td>0.000898</td>\n",
       "      <td>-0.004633</td>\n",
       "      <td>0.023861</td>\n",
       "      <td>-0.004875</td>\n",
       "      <td>-0.010812</td>\n",
       "      <td>-0.010306</td>\n",
       "      <td>-0.006869</td>\n",
       "      <td>-0.007076</td>\n",
       "    </tr>\n",
       "    <tr>\n",
       "      <th>num_access_files</th>\n",
       "      <td>0.070206</td>\n",
       "      <td>-0.005536</td>\n",
       "      <td>0.032292</td>\n",
       "      <td>0.028709</td>\n",
       "      <td>-0.000422</td>\n",
       "      <td>0.024142</td>\n",
       "      <td>-0.000391</td>\n",
       "      <td>-0.004006</td>\n",
       "      <td>-0.000277</td>\n",
       "      <td>0.003070</td>\n",
       "      <td>...</td>\n",
       "      <td>-0.012259</td>\n",
       "      <td>0.002793</td>\n",
       "      <td>0.009695</td>\n",
       "      <td>-0.004900</td>\n",
       "      <td>-0.011527</td>\n",
       "      <td>0.000579</td>\n",
       "      <td>-0.020043</td>\n",
       "      <td>-0.021220</td>\n",
       "      <td>-0.014569</td>\n",
       "      <td>-0.012844</td>\n",
       "    </tr>\n",
       "    <tr>\n",
       "      <th>num_outbound_cmds</th>\n",
       "      <td>NaN</td>\n",
       "      <td>NaN</td>\n",
       "      <td>NaN</td>\n",
       "      <td>NaN</td>\n",
       "      <td>NaN</td>\n",
       "      <td>NaN</td>\n",
       "      <td>NaN</td>\n",
       "      <td>NaN</td>\n",
       "      <td>NaN</td>\n",
       "      <td>NaN</td>\n",
       "      <td>...</td>\n",
       "      <td>NaN</td>\n",
       "      <td>NaN</td>\n",
       "      <td>NaN</td>\n",
       "      <td>NaN</td>\n",
       "      <td>NaN</td>\n",
       "      <td>NaN</td>\n",
       "      <td>NaN</td>\n",
       "      <td>NaN</td>\n",
       "      <td>NaN</td>\n",
       "      <td>NaN</td>\n",
       "    </tr>\n",
       "    <tr>\n",
       "      <th>is_host_login</th>\n",
       "      <td>NaN</td>\n",
       "      <td>NaN</td>\n",
       "      <td>NaN</td>\n",
       "      <td>NaN</td>\n",
       "      <td>NaN</td>\n",
       "      <td>NaN</td>\n",
       "      <td>NaN</td>\n",
       "      <td>NaN</td>\n",
       "      <td>NaN</td>\n",
       "      <td>NaN</td>\n",
       "      <td>...</td>\n",
       "      <td>NaN</td>\n",
       "      <td>NaN</td>\n",
       "      <td>NaN</td>\n",
       "      <td>NaN</td>\n",
       "      <td>NaN</td>\n",
       "      <td>NaN</td>\n",
       "      <td>NaN</td>\n",
       "      <td>NaN</td>\n",
       "      <td>NaN</td>\n",
       "      <td>NaN</td>\n",
       "    </tr>\n",
       "    <tr>\n",
       "      <th>is_guest_login</th>\n",
       "      <td>-0.002050</td>\n",
       "      <td>-0.012101</td>\n",
       "      <td>-0.068121</td>\n",
       "      <td>0.070101</td>\n",
       "      <td>-0.000932</td>\n",
       "      <td>-0.001161</td>\n",
       "      <td>-0.000855</td>\n",
       "      <td>-0.008756</td>\n",
       "      <td>-0.000605</td>\n",
       "      <td>0.833556</td>\n",
       "      <td>...</td>\n",
       "      <td>-0.007751</td>\n",
       "      <td>-0.062277</td>\n",
       "      <td>-0.053196</td>\n",
       "      <td>-0.004668</td>\n",
       "      <td>-0.034965</td>\n",
       "      <td>-0.022285</td>\n",
       "      <td>-0.059845</td>\n",
       "      <td>-0.059968</td>\n",
       "      <td>-0.029178</td>\n",
       "      <td>-0.030956</td>\n",
       "    </tr>\n",
       "    <tr>\n",
       "      <th>count</th>\n",
       "      <td>-0.081787</td>\n",
       "      <td>-0.062883</td>\n",
       "      <td>0.087957</td>\n",
       "      <td>-0.473533</td>\n",
       "      <td>-0.007302</td>\n",
       "      <td>-0.027824</td>\n",
       "      <td>-0.006495</td>\n",
       "      <td>-0.023241</td>\n",
       "      <td>-0.004593</td>\n",
       "      <td>-0.066655</td>\n",
       "      <td>...</td>\n",
       "      <td>0.466144</td>\n",
       "      <td>-0.399974</td>\n",
       "      <td>-0.477335</td>\n",
       "      <td>0.162274</td>\n",
       "      <td>-0.144247</td>\n",
       "      <td>-0.205608</td>\n",
       "      <td>0.464305</td>\n",
       "      <td>0.464837</td>\n",
       "      <td>0.176579</td>\n",
       "      <td>0.166997</td>\n",
       "    </tr>\n",
       "    <tr>\n",
       "      <th>srv_count</th>\n",
       "      <td>-0.040642</td>\n",
       "      <td>0.032034</td>\n",
       "      <td>-0.258859</td>\n",
       "      <td>0.196996</td>\n",
       "      <td>-0.003623</td>\n",
       "      <td>-0.012524</td>\n",
       "      <td>-0.003221</td>\n",
       "      <td>0.023377</td>\n",
       "      <td>-0.002321</td>\n",
       "      <td>-0.033420</td>\n",
       "      <td>...</td>\n",
       "      <td>0.146949</td>\n",
       "      <td>0.196931</td>\n",
       "      <td>0.177955</td>\n",
       "      <td>-0.106196</td>\n",
       "      <td>0.151041</td>\n",
       "      <td>-0.058855</td>\n",
       "      <td>-0.145494</td>\n",
       "      <td>-0.145077</td>\n",
       "      <td>-0.099661</td>\n",
       "      <td>-0.111955</td>\n",
       "    </tr>\n",
       "    <tr>\n",
       "      <th>serror_rate</th>\n",
       "      <td>-0.072458</td>\n",
       "      <td>-0.077962</td>\n",
       "      <td>0.272030</td>\n",
       "      <td>-0.457252</td>\n",
       "      <td>-0.006312</td>\n",
       "      <td>-0.022390</td>\n",
       "      <td>0.014216</td>\n",
       "      <td>-0.045228</td>\n",
       "      <td>-0.004033</td>\n",
       "      <td>-0.057841</td>\n",
       "      <td>...</td>\n",
       "      <td>0.394674</td>\n",
       "      <td>-0.558263</td>\n",
       "      <td>-0.624519</td>\n",
       "      <td>-0.019128</td>\n",
       "      <td>-0.277873</td>\n",
       "      <td>-0.172512</td>\n",
       "      <td>0.978022</td>\n",
       "      <td>0.979602</td>\n",
       "      <td>-0.230977</td>\n",
       "      <td>-0.226133</td>\n",
       "    </tr>\n",
       "    <tr>\n",
       "      <th>srv_serror_rate</th>\n",
       "      <td>-0.071832</td>\n",
       "      <td>-0.079920</td>\n",
       "      <td>0.269414</td>\n",
       "      <td>-0.452190</td>\n",
       "      <td>-0.006225</td>\n",
       "      <td>-0.022443</td>\n",
       "      <td>0.014259</td>\n",
       "      <td>-0.057834</td>\n",
       "      <td>-0.003994</td>\n",
       "      <td>-0.057147</td>\n",
       "      <td>...</td>\n",
       "      <td>0.392535</td>\n",
       "      <td>-0.555381</td>\n",
       "      <td>-0.620635</td>\n",
       "      <td>-0.032198</td>\n",
       "      <td>-0.277204</td>\n",
       "      <td>-0.170884</td>\n",
       "      <td>0.976363</td>\n",
       "      <td>0.984621</td>\n",
       "      <td>-0.235095</td>\n",
       "      <td>-0.232318</td>\n",
       "    </tr>\n",
       "    <tr>\n",
       "      <th>rerror_rate</th>\n",
       "      <td>0.209441</td>\n",
       "      <td>-0.046723</td>\n",
       "      <td>0.142616</td>\n",
       "      <td>-0.735816</td>\n",
       "      <td>0.016015</td>\n",
       "      <td>-0.013843</td>\n",
       "      <td>-0.003316</td>\n",
       "      <td>-0.033464</td>\n",
       "      <td>-0.002345</td>\n",
       "      <td>-0.031452</td>\n",
       "      <td>...</td>\n",
       "      <td>0.071321</td>\n",
       "      <td>-0.251030</td>\n",
       "      <td>-0.259312</td>\n",
       "      <td>0.379101</td>\n",
       "      <td>0.037900</td>\n",
       "      <td>0.029341</td>\n",
       "      <td>-0.226725</td>\n",
       "      <td>-0.226553</td>\n",
       "      <td>0.928992</td>\n",
       "      <td>0.964886</td>\n",
       "    </tr>\n",
       "    <tr>\n",
       "      <th>srv_rerror_rate</th>\n",
       "      <td>0.208354</td>\n",
       "      <td>-0.047033</td>\n",
       "      <td>0.140916</td>\n",
       "      <td>-0.736946</td>\n",
       "      <td>0.015816</td>\n",
       "      <td>-0.013664</td>\n",
       "      <td>-0.003324</td>\n",
       "      <td>-0.034035</td>\n",
       "      <td>-0.002351</td>\n",
       "      <td>-0.030326</td>\n",
       "      <td>...</td>\n",
       "      <td>0.074382</td>\n",
       "      <td>-0.249378</td>\n",
       "      <td>-0.257157</td>\n",
       "      <td>0.383078</td>\n",
       "      <td>0.034445</td>\n",
       "      <td>0.026160</td>\n",
       "      <td>-0.227345</td>\n",
       "      <td>-0.231331</td>\n",
       "      <td>0.919537</td>\n",
       "      <td>0.969841</td>\n",
       "    </tr>\n",
       "    <tr>\n",
       "      <th>same_srv_rate</th>\n",
       "      <td>0.075723</td>\n",
       "      <td>0.046683</td>\n",
       "      <td>-0.357572</td>\n",
       "      <td>0.719703</td>\n",
       "      <td>0.007673</td>\n",
       "      <td>0.030018</td>\n",
       "      <td>0.006880</td>\n",
       "      <td>0.056683</td>\n",
       "      <td>0.004865</td>\n",
       "      <td>0.068594</td>\n",
       "      <td>...</td>\n",
       "      <td>-0.508209</td>\n",
       "      <td>0.702810</td>\n",
       "      <td>0.787433</td>\n",
       "      <td>-0.163693</td>\n",
       "      <td>0.279723</td>\n",
       "      <td>0.215362</td>\n",
       "      <td>-0.763522</td>\n",
       "      <td>-0.767487</td>\n",
       "      <td>-0.211556</td>\n",
       "      <td>-0.213591</td>\n",
       "    </tr>\n",
       "    <tr>\n",
       "      <th>diff_srv_rate</th>\n",
       "      <td>-0.012009</td>\n",
       "      <td>0.022871</td>\n",
       "      <td>0.203359</td>\n",
       "      <td>-0.287545</td>\n",
       "      <td>-0.003098</td>\n",
       "      <td>-0.012300</td>\n",
       "      <td>-0.003112</td>\n",
       "      <td>-0.027428</td>\n",
       "      <td>-0.002201</td>\n",
       "      <td>-0.021225</td>\n",
       "      <td>...</td>\n",
       "      <td>0.189046</td>\n",
       "      <td>-0.295846</td>\n",
       "      <td>-0.325349</td>\n",
       "      <td>0.493426</td>\n",
       "      <td>-0.006978</td>\n",
       "      <td>-0.086257</td>\n",
       "      <td>0.049793</td>\n",
       "      <td>0.045075</td>\n",
       "      <td>0.218824</td>\n",
       "      <td>0.270256</td>\n",
       "    </tr>\n",
       "    <tr>\n",
       "      <th>srv_diff_host_rate</th>\n",
       "      <td>-0.041115</td>\n",
       "      <td>-0.234093</td>\n",
       "      <td>-0.092762</td>\n",
       "      <td>0.216785</td>\n",
       "      <td>-0.003077</td>\n",
       "      <td>-0.007560</td>\n",
       "      <td>0.014033</td>\n",
       "      <td>-0.028744</td>\n",
       "      <td>-0.002356</td>\n",
       "      <td>-0.023868</td>\n",
       "      <td>...</td>\n",
       "      <td>-0.352286</td>\n",
       "      <td>0.162177</td>\n",
       "      <td>0.293510</td>\n",
       "      <td>-0.119897</td>\n",
       "      <td>0.244097</td>\n",
       "      <td>0.379232</td>\n",
       "      <td>-0.227813</td>\n",
       "      <td>-0.228981</td>\n",
       "      <td>-0.077448</td>\n",
       "      <td>-0.083221</td>\n",
       "    </tr>\n",
       "    <tr>\n",
       "      <th>dst_host_count</th>\n",
       "      <td>0.055174</td>\n",
       "      <td>0.238318</td>\n",
       "      <td>0.184684</td>\n",
       "      <td>-0.319355</td>\n",
       "      <td>-0.009764</td>\n",
       "      <td>-0.030930</td>\n",
       "      <td>-0.016340</td>\n",
       "      <td>0.040020</td>\n",
       "      <td>0.004612</td>\n",
       "      <td>-0.009083</td>\n",
       "      <td>...</td>\n",
       "      <td>1.000000</td>\n",
       "      <td>-0.299240</td>\n",
       "      <td>-0.518816</td>\n",
       "      <td>0.143403</td>\n",
       "      <td>-0.316226</td>\n",
       "      <td>-0.454017</td>\n",
       "      <td>0.409966</td>\n",
       "      <td>0.407254</td>\n",
       "      <td>0.074403</td>\n",
       "      <td>0.072557</td>\n",
       "    </tr>\n",
       "    <tr>\n",
       "      <th>dst_host_srv_count</th>\n",
       "      <td>-0.112530</td>\n",
       "      <td>0.104292</td>\n",
       "      <td>-0.409442</td>\n",
       "      <td>0.584087</td>\n",
       "      <td>-0.008520</td>\n",
       "      <td>-0.000980</td>\n",
       "      <td>-0.008743</td>\n",
       "      <td>-0.047256</td>\n",
       "      <td>-0.006324</td>\n",
       "      <td>-0.048495</td>\n",
       "      <td>...</td>\n",
       "      <td>-0.299240</td>\n",
       "      <td>1.000000</td>\n",
       "      <td>0.895512</td>\n",
       "      <td>-0.389749</td>\n",
       "      <td>-0.072576</td>\n",
       "      <td>0.003635</td>\n",
       "      <td>-0.572560</td>\n",
       "      <td>-0.567893</td>\n",
       "      <td>-0.249867</td>\n",
       "      <td>-0.254902</td>\n",
       "    </tr>\n",
       "    <tr>\n",
       "      <th>dst_host_same_srv_rate</th>\n",
       "      <td>-0.119321</td>\n",
       "      <td>0.004797</td>\n",
       "      <td>-0.450546</td>\n",
       "      <td>0.634415</td>\n",
       "      <td>-0.006776</td>\n",
       "      <td>0.022392</td>\n",
       "      <td>0.009531</td>\n",
       "      <td>-0.051845</td>\n",
       "      <td>-0.007014</td>\n",
       "      <td>-0.033442</td>\n",
       "      <td>...</td>\n",
       "      <td>-0.518816</td>\n",
       "      <td>0.895512</td>\n",
       "      <td>1.000000</td>\n",
       "      <td>-0.417101</td>\n",
       "      <td>0.133540</td>\n",
       "      <td>0.199967</td>\n",
       "      <td>-0.640531</td>\n",
       "      <td>-0.633419</td>\n",
       "      <td>-0.259665</td>\n",
       "      <td>-0.262958</td>\n",
       "    </tr>\n",
       "    <tr>\n",
       "      <th>dst_host_diff_srv_rate</th>\n",
       "      <td>0.263489</td>\n",
       "      <td>0.131609</td>\n",
       "      <td>0.280962</td>\n",
       "      <td>-0.284016</td>\n",
       "      <td>0.001026</td>\n",
       "      <td>-0.012971</td>\n",
       "      <td>-0.003929</td>\n",
       "      <td>0.053177</td>\n",
       "      <td>-0.002105</td>\n",
       "      <td>-0.007962</td>\n",
       "      <td>...</td>\n",
       "      <td>0.143403</td>\n",
       "      <td>-0.389749</td>\n",
       "      <td>-0.417101</td>\n",
       "      <td>1.000000</td>\n",
       "      <td>0.239384</td>\n",
       "      <td>0.012840</td>\n",
       "      <td>-0.021179</td>\n",
       "      <td>-0.030305</td>\n",
       "      <td>0.411739</td>\n",
       "      <td>0.390170</td>\n",
       "    </tr>\n",
       "    <tr>\n",
       "      <th>dst_host_same_src_port_rate</th>\n",
       "      <td>0.240970</td>\n",
       "      <td>-0.206137</td>\n",
       "      <td>-0.101749</td>\n",
       "      <td>0.194528</td>\n",
       "      <td>0.002316</td>\n",
       "      <td>0.024078</td>\n",
       "      <td>0.024635</td>\n",
       "      <td>0.034670</td>\n",
       "      <td>-0.003013</td>\n",
       "      <td>-0.030640</td>\n",
       "      <td>...</td>\n",
       "      <td>-0.316226</td>\n",
       "      <td>-0.072576</td>\n",
       "      <td>0.133540</td>\n",
       "      <td>0.239384</td>\n",
       "      <td>1.000000</td>\n",
       "      <td>0.405881</td>\n",
       "      <td>-0.281504</td>\n",
       "      <td>-0.278720</td>\n",
       "      <td>0.043397</td>\n",
       "      <td>0.033143</td>\n",
       "    </tr>\n",
       "    <tr>\n",
       "      <th>dst_host_srv_diff_host_rate</th>\n",
       "      <td>-0.025485</td>\n",
       "      <td>-0.360518</td>\n",
       "      <td>-0.153359</td>\n",
       "      <td>0.078870</td>\n",
       "      <td>-0.001238</td>\n",
       "      <td>-0.006006</td>\n",
       "      <td>0.053037</td>\n",
       "      <td>-0.020174</td>\n",
       "      <td>-0.001815</td>\n",
       "      <td>-0.021170</td>\n",
       "      <td>...</td>\n",
       "      <td>-0.454017</td>\n",
       "      <td>0.003635</td>\n",
       "      <td>0.199967</td>\n",
       "      <td>0.012840</td>\n",
       "      <td>0.405881</td>\n",
       "      <td>1.000000</td>\n",
       "      <td>-0.174847</td>\n",
       "      <td>-0.172604</td>\n",
       "      <td>0.036422</td>\n",
       "      <td>0.035728</td>\n",
       "    </tr>\n",
       "    <tr>\n",
       "      <th>dst_host_serror_rate</th>\n",
       "      <td>-0.066513</td>\n",
       "      <td>-0.080432</td>\n",
       "      <td>0.276906</td>\n",
       "      <td>-0.447140</td>\n",
       "      <td>-0.006346</td>\n",
       "      <td>-0.015584</td>\n",
       "      <td>0.014291</td>\n",
       "      <td>-0.053786</td>\n",
       "      <td>-0.004044</td>\n",
       "      <td>-0.055628</td>\n",
       "      <td>...</td>\n",
       "      <td>0.409966</td>\n",
       "      <td>-0.572560</td>\n",
       "      <td>-0.640531</td>\n",
       "      <td>-0.021179</td>\n",
       "      <td>-0.281504</td>\n",
       "      <td>-0.174847</td>\n",
       "      <td>1.000000</td>\n",
       "      <td>0.984706</td>\n",
       "      <td>-0.235487</td>\n",
       "      <td>-0.227803</td>\n",
       "    </tr>\n",
       "    <tr>\n",
       "      <th>dst_host_srv_serror_rate</th>\n",
       "      <td>-0.066240</td>\n",
       "      <td>-0.079086</td>\n",
       "      <td>0.273472</td>\n",
       "      <td>-0.447007</td>\n",
       "      <td>-0.006227</td>\n",
       "      <td>-0.014543</td>\n",
       "      <td>0.005596</td>\n",
       "      <td>-0.057230</td>\n",
       "      <td>-0.003953</td>\n",
       "      <td>-0.056255</td>\n",
       "      <td>...</td>\n",
       "      <td>0.407254</td>\n",
       "      <td>-0.567893</td>\n",
       "      <td>-0.633419</td>\n",
       "      <td>-0.030305</td>\n",
       "      <td>-0.278720</td>\n",
       "      <td>-0.172604</td>\n",
       "      <td>0.984706</td>\n",
       "      <td>1.000000</td>\n",
       "      <td>-0.234695</td>\n",
       "      <td>-0.232478</td>\n",
       "    </tr>\n",
       "    <tr>\n",
       "      <th>dst_host_rerror_rate</th>\n",
       "      <td>0.187070</td>\n",
       "      <td>-0.018424</td>\n",
       "      <td>0.141211</td>\n",
       "      <td>-0.680849</td>\n",
       "      <td>-0.002130</td>\n",
       "      <td>-0.014094</td>\n",
       "      <td>-0.003432</td>\n",
       "      <td>0.027718</td>\n",
       "      <td>-0.002427</td>\n",
       "      <td>-0.027628</td>\n",
       "      <td>...</td>\n",
       "      <td>0.074403</td>\n",
       "      <td>-0.249867</td>\n",
       "      <td>-0.259665</td>\n",
       "      <td>0.411739</td>\n",
       "      <td>0.043397</td>\n",
       "      <td>0.036422</td>\n",
       "      <td>-0.235487</td>\n",
       "      <td>-0.234695</td>\n",
       "      <td>1.000000</td>\n",
       "      <td>0.925390</td>\n",
       "    </tr>\n",
       "    <tr>\n",
       "      <th>dst_host_srv_rerror_rate</th>\n",
       "      <td>0.208435</td>\n",
       "      <td>-0.047182</td>\n",
       "      <td>0.142865</td>\n",
       "      <td>-0.716075</td>\n",
       "      <td>0.006190</td>\n",
       "      <td>-0.012803</td>\n",
       "      <td>-0.003335</td>\n",
       "      <td>-0.034143</td>\n",
       "      <td>-0.002358</td>\n",
       "      <td>-0.029719</td>\n",
       "      <td>...</td>\n",
       "      <td>0.072557</td>\n",
       "      <td>-0.254902</td>\n",
       "      <td>-0.262958</td>\n",
       "      <td>0.390170</td>\n",
       "      <td>0.033143</td>\n",
       "      <td>0.035728</td>\n",
       "      <td>-0.227803</td>\n",
       "      <td>-0.232478</td>\n",
       "      <td>0.925390</td>\n",
       "      <td>1.000000</td>\n",
       "    </tr>\n",
       "  </tbody>\n",
       "</table>\n",
       "<p>41 rows × 41 columns</p>\n",
       "</div>"
      ],
      "text/plain": [
       "                             duration  protocol_type   service      flag  \\\n",
       "duration                     1.000000       0.036421  0.101301 -0.066634   \n",
       "protocol_type                0.036421       1.000000  0.025322  0.094926   \n",
       "service                      0.101301       0.025322  1.000000 -0.295491   \n",
       "flag                        -0.066634       0.094926 -0.295491  1.000000   \n",
       "src_bytes                    0.084864      -0.001286  0.008554 -0.006599   \n",
       "dst_bytes                    0.013258      -0.004734 -0.013782  0.027606   \n",
       "land                        -0.001012      -0.001123 -0.006896 -0.006593   \n",
       "wrong_fragment              -0.010358       0.176420  0.088169  0.068693   \n",
       "urgent                      -0.000486      -0.000794  0.011325  0.004744   \n",
       "hot                          0.004202      -0.011589 -0.056165  0.067027   \n",
       "num_failed_logins            0.011108      -0.003305  0.029601 -0.010920   \n",
       "logged_in                   -0.063703      -0.101810 -0.138824  0.587882   \n",
       "num_compromised              0.095215      -0.002757  0.037699  0.011328   \n",
       "root_shell                   0.050547      -0.004964  0.038780  0.019854   \n",
       "su_attempted                 0.094243      -0.003488  0.049729  0.010203   \n",
       "num_root                     0.094066      -0.002739  0.035444  0.011244   \n",
       "num_file_creations           0.088272      -0.003505  0.041996  0.014366   \n",
       "num_shells                  -0.001585      -0.002383 -0.007069  0.014236   \n",
       "num_access_files             0.070206      -0.005536  0.032292  0.028709   \n",
       "num_outbound_cmds                 NaN            NaN       NaN       NaN   \n",
       "is_host_login                     NaN            NaN       NaN       NaN   \n",
       "is_guest_login              -0.002050      -0.012101 -0.068121  0.070101   \n",
       "count                       -0.081787      -0.062883  0.087957 -0.473533   \n",
       "srv_count                   -0.040642       0.032034 -0.258859  0.196996   \n",
       "serror_rate                 -0.072458      -0.077962  0.272030 -0.457252   \n",
       "srv_serror_rate             -0.071832      -0.079920  0.269414 -0.452190   \n",
       "rerror_rate                  0.209441      -0.046723  0.142616 -0.735816   \n",
       "srv_rerror_rate              0.208354      -0.047033  0.140916 -0.736946   \n",
       "same_srv_rate                0.075723       0.046683 -0.357572  0.719703   \n",
       "diff_srv_rate               -0.012009       0.022871  0.203359 -0.287545   \n",
       "srv_diff_host_rate          -0.041115      -0.234093 -0.092762  0.216785   \n",
       "dst_host_count               0.055174       0.238318  0.184684 -0.319355   \n",
       "dst_host_srv_count          -0.112530       0.104292 -0.409442  0.584087   \n",
       "dst_host_same_srv_rate      -0.119321       0.004797 -0.450546  0.634415   \n",
       "dst_host_diff_srv_rate       0.263489       0.131609  0.280962 -0.284016   \n",
       "dst_host_same_src_port_rate  0.240970      -0.206137 -0.101749  0.194528   \n",
       "dst_host_srv_diff_host_rate -0.025485      -0.360518 -0.153359  0.078870   \n",
       "dst_host_serror_rate        -0.066513      -0.080432  0.276906 -0.447140   \n",
       "dst_host_srv_serror_rate    -0.066240      -0.079086  0.273472 -0.447007   \n",
       "dst_host_rerror_rate         0.187070      -0.018424  0.141211 -0.680849   \n",
       "dst_host_srv_rerror_rate     0.208435      -0.047182  0.142865 -0.716075   \n",
       "\n",
       "                             src_bytes  dst_bytes      land  wrong_fragment  \\\n",
       "duration                      0.084864   0.013258 -0.001012       -0.010358   \n",
       "protocol_type                -0.001286  -0.004734 -0.001123        0.176420   \n",
       "service                       0.008554  -0.013782 -0.006896        0.088169   \n",
       "flag                         -0.006599   0.027606 -0.006593        0.068693   \n",
       "src_bytes                     1.000000   0.003611 -0.000090       -0.000916   \n",
       "dst_bytes                     0.003611   1.000000 -0.000350       -0.003586   \n",
       "land                         -0.000090  -0.000350  1.000000       -0.000813   \n",
       "wrong_fragment               -0.000916  -0.003586 -0.000813        1.000000   \n",
       "urgent                       -0.000062   0.000345 -0.000056       -0.000575   \n",
       "hot                           0.000995   0.002539 -0.000819       -0.008386   \n",
       "num_failed_logins            -0.000260   0.005197 -0.000234       -0.002392   \n",
       "logged_in                    -0.002040   0.012704 -0.007196       -0.073674   \n",
       "num_compromised              -0.000196   0.035852 -0.000195       -0.001995   \n",
       "root_shell                   -0.000383   0.020214 -0.000351       -0.003592   \n",
       "su_attempted                 -0.000267   0.035041 -0.000247       -0.002524   \n",
       "num_root                     -0.000209   0.035171 -0.000194       -0.001982   \n",
       "num_file_creations           -0.000218   0.008456 -0.000248       -0.002537   \n",
       "num_shells                   -0.000158  -0.000146 -0.000168       -0.001725   \n",
       "num_access_files             -0.000422   0.024142 -0.000391       -0.004006   \n",
       "num_outbound_cmds                  NaN        NaN       NaN             NaN   \n",
       "is_host_login                      NaN        NaN       NaN             NaN   \n",
       "is_guest_login               -0.000932  -0.001161 -0.000855       -0.008756   \n",
       "count                        -0.007302  -0.027824 -0.006495       -0.023241   \n",
       "srv_count                    -0.003623  -0.012524 -0.003221        0.023377   \n",
       "serror_rate                  -0.006312  -0.022390  0.014216       -0.045228   \n",
       "srv_serror_rate              -0.006225  -0.022443  0.014259       -0.057834   \n",
       "rerror_rate                   0.016015  -0.013843 -0.003316       -0.033464   \n",
       "srv_rerror_rate               0.015816  -0.013664 -0.003324       -0.034035   \n",
       "same_srv_rate                 0.007673   0.030018  0.006880        0.056683   \n",
       "diff_srv_rate                -0.003098  -0.012300 -0.003112       -0.027428   \n",
       "srv_diff_host_rate           -0.003077  -0.007560  0.014033       -0.028744   \n",
       "dst_host_count               -0.009764  -0.030930 -0.016340        0.040020   \n",
       "dst_host_srv_count           -0.008520  -0.000980 -0.008743       -0.047256   \n",
       "dst_host_same_srv_rate       -0.006776   0.022392  0.009531       -0.051845   \n",
       "dst_host_diff_srv_rate        0.001026  -0.012971 -0.003929        0.053177   \n",
       "dst_host_same_src_port_rate   0.002316   0.024078  0.024635        0.034670   \n",
       "dst_host_srv_diff_host_rate  -0.001238  -0.006006  0.053037       -0.020174   \n",
       "dst_host_serror_rate         -0.006346  -0.015584  0.014291       -0.053786   \n",
       "dst_host_srv_serror_rate     -0.006227  -0.014543  0.005596       -0.057230   \n",
       "dst_host_rerror_rate         -0.002130  -0.014094 -0.003432        0.027718   \n",
       "dst_host_srv_rerror_rate      0.006190  -0.012803 -0.003335       -0.034143   \n",
       "\n",
       "                               urgent       hot  ...  dst_host_count  \\\n",
       "duration                    -0.000486  0.004202  ...        0.055174   \n",
       "protocol_type               -0.000794 -0.011589  ...        0.238318   \n",
       "service                      0.011325 -0.056165  ...        0.184684   \n",
       "flag                         0.004744  0.067027  ...       -0.319355   \n",
       "src_bytes                   -0.000062  0.000995  ...       -0.009764   \n",
       "dst_bytes                    0.000345  0.002539  ...       -0.030930   \n",
       "land                        -0.000056 -0.000819  ...       -0.016340   \n",
       "wrong_fragment              -0.000575 -0.008386  ...        0.040020   \n",
       "urgent                       1.000000  0.002346  ...        0.004612   \n",
       "hot                          0.002346  1.000000  ...       -0.009083   \n",
       "num_failed_logins           -0.000165  0.004893  ...       -0.026460   \n",
       "logged_in                    0.007801  0.113115  ...       -0.395905   \n",
       "num_compromised              0.002886  0.002005  ...       -0.015637   \n",
       "root_shell                   0.160007  0.021221  ...       -0.036093   \n",
       "su_attempted                -0.000174  0.000478  ...       -0.024109   \n",
       "num_root                     0.007533  0.000703  ...       -0.016143   \n",
       "num_file_creations           0.011722  0.067417  ...        0.002264   \n",
       "num_shells                  -0.000119  0.012888  ...       -0.008526   \n",
       "num_access_files            -0.000277  0.003070  ...       -0.012259   \n",
       "num_outbound_cmds                 NaN       NaN  ...             NaN   \n",
       "is_host_login                     NaN       NaN  ...             NaN   \n",
       "is_guest_login              -0.000605  0.833556  ...       -0.007751   \n",
       "count                       -0.004593 -0.066655  ...        0.466144   \n",
       "srv_count                   -0.002321 -0.033420  ...        0.146949   \n",
       "serror_rate                 -0.004033 -0.057841  ...        0.394674   \n",
       "srv_serror_rate             -0.003994 -0.057147  ...        0.392535   \n",
       "rerror_rate                 -0.002345 -0.031452  ...        0.071321   \n",
       "srv_rerror_rate             -0.002351 -0.030326  ...        0.074382   \n",
       "same_srv_rate                0.004865  0.068594  ...       -0.508209   \n",
       "diff_srv_rate               -0.002201 -0.021225  ...        0.189046   \n",
       "srv_diff_host_rate          -0.002356 -0.023868  ...       -0.352286   \n",
       "dst_host_count               0.004612 -0.009083  ...        1.000000   \n",
       "dst_host_srv_count          -0.006324 -0.048495  ...       -0.299240   \n",
       "dst_host_same_srv_rate      -0.007014 -0.033442  ...       -0.518816   \n",
       "dst_host_diff_srv_rate      -0.002105 -0.007962  ...        0.143403   \n",
       "dst_host_same_src_port_rate -0.003013 -0.030640  ...       -0.316226   \n",
       "dst_host_srv_diff_host_rate -0.001815 -0.021170  ...       -0.454017   \n",
       "dst_host_serror_rate        -0.004044 -0.055628  ...        0.409966   \n",
       "dst_host_srv_serror_rate    -0.003953 -0.056255  ...        0.407254   \n",
       "dst_host_rerror_rate        -0.002427 -0.027628  ...        0.074403   \n",
       "dst_host_srv_rerror_rate    -0.002358 -0.029719  ...        0.072557   \n",
       "\n",
       "                             dst_host_srv_count  dst_host_same_srv_rate  \\\n",
       "duration                              -0.112530               -0.119321   \n",
       "protocol_type                          0.104292                0.004797   \n",
       "service                               -0.409442               -0.450546   \n",
       "flag                                   0.584087                0.634415   \n",
       "src_bytes                             -0.008520               -0.006776   \n",
       "dst_bytes                             -0.000980                0.022392   \n",
       "land                                  -0.008743                0.009531   \n",
       "wrong_fragment                        -0.047256               -0.051845   \n",
       "urgent                                -0.006324               -0.007014   \n",
       "hot                                   -0.048495               -0.033442   \n",
       "num_failed_logins                     -0.022315               -0.003336   \n",
       "logged_in                              0.624839                0.607379   \n",
       "num_compromised                       -0.018220               -0.011794   \n",
       "root_shell                            -0.009978                0.011376   \n",
       "su_attempted                          -0.025056               -0.014650   \n",
       "num_root                              -0.018332               -0.012409   \n",
       "num_file_creations                    -0.022402               -0.022507   \n",
       "num_shells                            -0.011990                0.000898   \n",
       "num_access_files                       0.002793                0.009695   \n",
       "num_outbound_cmds                           NaN                     NaN   \n",
       "is_host_login                               NaN                     NaN   \n",
       "is_guest_login                        -0.062277               -0.053196   \n",
       "count                                 -0.399974               -0.477335   \n",
       "srv_count                              0.196931                0.177955   \n",
       "serror_rate                           -0.558263               -0.624519   \n",
       "srv_serror_rate                       -0.555381               -0.620635   \n",
       "rerror_rate                           -0.251030               -0.259312   \n",
       "srv_rerror_rate                       -0.249378               -0.257157   \n",
       "same_srv_rate                          0.702810                0.787433   \n",
       "diff_srv_rate                         -0.295846               -0.325349   \n",
       "srv_diff_host_rate                     0.162177                0.293510   \n",
       "dst_host_count                        -0.299240               -0.518816   \n",
       "dst_host_srv_count                     1.000000                0.895512   \n",
       "dst_host_same_srv_rate                 0.895512                1.000000   \n",
       "dst_host_diff_srv_rate                -0.389749               -0.417101   \n",
       "dst_host_same_src_port_rate           -0.072576                0.133540   \n",
       "dst_host_srv_diff_host_rate            0.003635                0.199967   \n",
       "dst_host_serror_rate                  -0.572560               -0.640531   \n",
       "dst_host_srv_serror_rate              -0.567893               -0.633419   \n",
       "dst_host_rerror_rate                  -0.249867               -0.259665   \n",
       "dst_host_srv_rerror_rate              -0.254902               -0.262958   \n",
       "\n",
       "                             dst_host_diff_srv_rate  \\\n",
       "duration                                   0.263489   \n",
       "protocol_type                              0.131609   \n",
       "service                                    0.280962   \n",
       "flag                                      -0.284016   \n",
       "src_bytes                                  0.001026   \n",
       "dst_bytes                                 -0.012971   \n",
       "land                                      -0.003929   \n",
       "wrong_fragment                             0.053177   \n",
       "urgent                                    -0.002105   \n",
       "hot                                       -0.007962   \n",
       "num_failed_logins                          0.000298   \n",
       "logged_in                                 -0.255820   \n",
       "num_compromised                            0.001757   \n",
       "root_shell                                -0.006575   \n",
       "su_attempted                               0.002928   \n",
       "num_root                                   0.002327   \n",
       "num_file_creations                         0.006386   \n",
       "num_shells                                -0.004633   \n",
       "num_access_files                          -0.004900   \n",
       "num_outbound_cmds                               NaN   \n",
       "is_host_login                                   NaN   \n",
       "is_guest_login                            -0.004668   \n",
       "count                                      0.162274   \n",
       "srv_count                                 -0.106196   \n",
       "serror_rate                               -0.019128   \n",
       "srv_serror_rate                           -0.032198   \n",
       "rerror_rate                                0.379101   \n",
       "srv_rerror_rate                            0.383078   \n",
       "same_srv_rate                             -0.163693   \n",
       "diff_srv_rate                              0.493426   \n",
       "srv_diff_host_rate                        -0.119897   \n",
       "dst_host_count                             0.143403   \n",
       "dst_host_srv_count                        -0.389749   \n",
       "dst_host_same_srv_rate                    -0.417101   \n",
       "dst_host_diff_srv_rate                     1.000000   \n",
       "dst_host_same_src_port_rate                0.239384   \n",
       "dst_host_srv_diff_host_rate                0.012840   \n",
       "dst_host_serror_rate                      -0.021179   \n",
       "dst_host_srv_serror_rate                  -0.030305   \n",
       "dst_host_rerror_rate                       0.411739   \n",
       "dst_host_srv_rerror_rate                   0.390170   \n",
       "\n",
       "                             dst_host_same_src_port_rate  \\\n",
       "duration                                        0.240970   \n",
       "protocol_type                                  -0.206137   \n",
       "service                                        -0.101749   \n",
       "flag                                            0.194528   \n",
       "src_bytes                                       0.002316   \n",
       "dst_bytes                                       0.024078   \n",
       "land                                            0.024635   \n",
       "wrong_fragment                                  0.034670   \n",
       "urgent                                         -0.003013   \n",
       "hot                                            -0.030640   \n",
       "num_failed_logins                              -0.008910   \n",
       "logged_in                                      -0.159278   \n",
       "num_compromised                                -0.004146   \n",
       "root_shell                                      0.010541   \n",
       "su_attempted                                   -0.002252   \n",
       "num_root                                       -0.002507   \n",
       "num_file_creations                             -0.009671   \n",
       "num_shells                                      0.023861   \n",
       "num_access_files                               -0.011527   \n",
       "num_outbound_cmds                                    NaN   \n",
       "is_host_login                                        NaN   \n",
       "is_guest_login                                 -0.034965   \n",
       "count                                          -0.144247   \n",
       "srv_count                                       0.151041   \n",
       "serror_rate                                    -0.277873   \n",
       "srv_serror_rate                                -0.277204   \n",
       "rerror_rate                                     0.037900   \n",
       "srv_rerror_rate                                 0.034445   \n",
       "same_srv_rate                                   0.279723   \n",
       "diff_srv_rate                                  -0.006978   \n",
       "srv_diff_host_rate                              0.244097   \n",
       "dst_host_count                                 -0.316226   \n",
       "dst_host_srv_count                             -0.072576   \n",
       "dst_host_same_srv_rate                          0.133540   \n",
       "dst_host_diff_srv_rate                          0.239384   \n",
       "dst_host_same_src_port_rate                     1.000000   \n",
       "dst_host_srv_diff_host_rate                     0.405881   \n",
       "dst_host_serror_rate                           -0.281504   \n",
       "dst_host_srv_serror_rate                       -0.278720   \n",
       "dst_host_rerror_rate                            0.043397   \n",
       "dst_host_srv_rerror_rate                        0.033143   \n",
       "\n",
       "                             dst_host_srv_diff_host_rate  \\\n",
       "duration                                       -0.025485   \n",
       "protocol_type                                  -0.360518   \n",
       "service                                        -0.153359   \n",
       "flag                                            0.078870   \n",
       "src_bytes                                      -0.001238   \n",
       "dst_bytes                                      -0.006006   \n",
       "land                                            0.053037   \n",
       "wrong_fragment                                 -0.020174   \n",
       "urgent                                         -0.001815   \n",
       "hot                                            -0.021170   \n",
       "num_failed_logins                              -0.007551   \n",
       "logged_in                                      -0.057390   \n",
       "num_compromised                                 0.013608   \n",
       "root_shell                                      0.018975   \n",
       "su_attempted                                    0.015875   \n",
       "num_root                                        0.013526   \n",
       "num_file_creations                              0.002682   \n",
       "num_shells                                     -0.004875   \n",
       "num_access_files                                0.000579   \n",
       "num_outbound_cmds                                    NaN   \n",
       "is_host_login                                        NaN   \n",
       "is_guest_login                                 -0.022285   \n",
       "count                                          -0.205608   \n",
       "srv_count                                      -0.058855   \n",
       "serror_rate                                    -0.172512   \n",
       "srv_serror_rate                                -0.170884   \n",
       "rerror_rate                                     0.029341   \n",
       "srv_rerror_rate                                 0.026160   \n",
       "same_srv_rate                                   0.215362   \n",
       "diff_srv_rate                                  -0.086257   \n",
       "srv_diff_host_rate                              0.379232   \n",
       "dst_host_count                                 -0.454017   \n",
       "dst_host_srv_count                              0.003635   \n",
       "dst_host_same_srv_rate                          0.199967   \n",
       "dst_host_diff_srv_rate                          0.012840   \n",
       "dst_host_same_src_port_rate                     0.405881   \n",
       "dst_host_srv_diff_host_rate                     1.000000   \n",
       "dst_host_serror_rate                           -0.174847   \n",
       "dst_host_srv_serror_rate                       -0.172604   \n",
       "dst_host_rerror_rate                            0.036422   \n",
       "dst_host_srv_rerror_rate                        0.035728   \n",
       "\n",
       "                             dst_host_serror_rate  dst_host_srv_serror_rate  \\\n",
       "duration                                -0.066513                 -0.066240   \n",
       "protocol_type                           -0.080432                 -0.079086   \n",
       "service                                  0.276906                  0.273472   \n",
       "flag                                    -0.447140                 -0.447007   \n",
       "src_bytes                               -0.006346                 -0.006227   \n",
       "dst_bytes                               -0.015584                 -0.014543   \n",
       "land                                     0.014291                  0.005596   \n",
       "wrong_fragment                          -0.053786                 -0.057230   \n",
       "urgent                                  -0.004044                 -0.003953   \n",
       "hot                                     -0.055628                 -0.056255   \n",
       "num_failed_logins                       -0.009527                 -0.010238   \n",
       "logged_in                               -0.490450                 -0.492446   \n",
       "num_compromised                         -0.007911                 -0.007716   \n",
       "root_shell                              -0.022098                 -0.020584   \n",
       "su_attempted                            -0.010940                 -0.008692   \n",
       "num_root                                -0.008318                 -0.007920   \n",
       "num_file_creations                       0.001272                 -0.006771   \n",
       "num_shells                              -0.010812                 -0.010306   \n",
       "num_access_files                        -0.020043                 -0.021220   \n",
       "num_outbound_cmds                             NaN                       NaN   \n",
       "is_host_login                                 NaN                       NaN   \n",
       "is_guest_login                          -0.059845                 -0.059968   \n",
       "count                                    0.464305                  0.464837   \n",
       "srv_count                               -0.145494                 -0.145077   \n",
       "serror_rate                              0.978022                  0.979602   \n",
       "srv_serror_rate                          0.976363                  0.984621   \n",
       "rerror_rate                             -0.226725                 -0.226553   \n",
       "srv_rerror_rate                         -0.227345                 -0.231331   \n",
       "same_srv_rate                           -0.763522                 -0.767487   \n",
       "diff_srv_rate                            0.049793                  0.045075   \n",
       "srv_diff_host_rate                      -0.227813                 -0.228981   \n",
       "dst_host_count                           0.409966                  0.407254   \n",
       "dst_host_srv_count                      -0.572560                 -0.567893   \n",
       "dst_host_same_srv_rate                  -0.640531                 -0.633419   \n",
       "dst_host_diff_srv_rate                  -0.021179                 -0.030305   \n",
       "dst_host_same_src_port_rate             -0.281504                 -0.278720   \n",
       "dst_host_srv_diff_host_rate             -0.174847                 -0.172604   \n",
       "dst_host_serror_rate                     1.000000                  0.984706   \n",
       "dst_host_srv_serror_rate                 0.984706                  1.000000   \n",
       "dst_host_rerror_rate                    -0.235487                 -0.234695   \n",
       "dst_host_srv_rerror_rate                -0.227803                 -0.232478   \n",
       "\n",
       "                             dst_host_rerror_rate  dst_host_srv_rerror_rate  \n",
       "duration                                 0.187070                  0.208435  \n",
       "protocol_type                           -0.018424                 -0.047182  \n",
       "service                                  0.141211                  0.142865  \n",
       "flag                                    -0.680849                 -0.716075  \n",
       "src_bytes                               -0.002130                  0.006190  \n",
       "dst_bytes                               -0.014094                 -0.012803  \n",
       "land                                    -0.003432                 -0.003335  \n",
       "wrong_fragment                           0.027718                 -0.034143  \n",
       "urgent                                  -0.002427                 -0.002358  \n",
       "hot                                     -0.027628                 -0.029719  \n",
       "num_failed_logins                        0.016791                  0.018693  \n",
       "logged_in                               -0.274430                 -0.270507  \n",
       "num_compromised                         -0.007199                 -0.004361  \n",
       "root_shell                              -0.011765                 -0.010952  \n",
       "su_attempted                            -0.005068                 -0.003124  \n",
       "num_root                                -0.007042                 -0.004610  \n",
       "num_file_creations                      -0.004493                 -0.002722  \n",
       "num_shells                              -0.006869                 -0.007076  \n",
       "num_access_files                        -0.014569                 -0.012844  \n",
       "num_outbound_cmds                             NaN                       NaN  \n",
       "is_host_login                                 NaN                       NaN  \n",
       "is_guest_login                          -0.029178                 -0.030956  \n",
       "count                                    0.176579                  0.166997  \n",
       "srv_count                               -0.099661                 -0.111955  \n",
       "serror_rate                             -0.230977                 -0.226133  \n",
       "srv_serror_rate                         -0.235095                 -0.232318  \n",
       "rerror_rate                              0.928992                  0.964886  \n",
       "srv_rerror_rate                          0.919537                  0.969841  \n",
       "same_srv_rate                           -0.211556                 -0.213591  \n",
       "diff_srv_rate                            0.218824                  0.270256  \n",
       "srv_diff_host_rate                      -0.077448                 -0.083221  \n",
       "dst_host_count                           0.074403                  0.072557  \n",
       "dst_host_srv_count                      -0.249867                 -0.254902  \n",
       "dst_host_same_srv_rate                  -0.259665                 -0.262958  \n",
       "dst_host_diff_srv_rate                   0.411739                  0.390170  \n",
       "dst_host_same_src_port_rate              0.043397                  0.033143  \n",
       "dst_host_srv_diff_host_rate              0.036422                  0.035728  \n",
       "dst_host_serror_rate                    -0.235487                 -0.227803  \n",
       "dst_host_srv_serror_rate                -0.234695                 -0.232478  \n",
       "dst_host_rerror_rate                     1.000000                  0.925390  \n",
       "dst_host_srv_rerror_rate                 0.925390                  1.000000  \n",
       "\n",
       "[41 rows x 41 columns]"
      ]
     },
     "execution_count": 11,
     "metadata": {},
     "output_type": "execute_result"
    }
   ],
   "source": [
    "data.corr()"
   ]
  },
  {
   "cell_type": "code",
   "execution_count": 12,
   "metadata": {},
   "outputs": [],
   "source": [
    "train, test = train_test_split(data, test_size = 0.3)"
   ]
  },
  {
   "cell_type": "code",
   "execution_count": 13,
   "metadata": {},
   "outputs": [],
   "source": [
    "x_train = train[features]\n",
    "y_train = train[\"class\"]\n",
    "\n",
    "x_test = test[features]\n",
    "y_test = test[\"class\"]"
   ]
  },
  {
   "cell_type": "markdown",
   "metadata": {},
   "source": [
    "# Decission tree\n"
   ]
  },
  {
   "cell_type": "code",
   "execution_count": 14,
   "metadata": {},
   "outputs": [
    {
     "name": "stdout",
     "output_type": "stream",
     "text": [
      "Wall time: 157 ms\n"
     ]
    }
   ],
   "source": [
    "%%time\n",
    "DT = tree.DecisionTreeClassifier()\n",
    "DT = DT.fit(x_train, y_train)\n",
    "y_pred = DT.predict(x_test)"
   ]
  },
  {
   "cell_type": "code",
   "execution_count": 15,
   "metadata": {},
   "outputs": [
    {
     "name": "stdout",
     "output_type": "stream",
     "text": [
      "Accuracy:  99.64276263561788\n"
     ]
    }
   ],
   "source": [
    "nb=DT.score(x_test,y_test)\n",
    "p=100\n",
    "m1=nb*p\n",
    "print(\"Accuracy: \",m1)"
   ]
  },
  {
   "cell_type": "code",
   "execution_count": 16,
   "metadata": {},
   "outputs": [
    {
     "name": "stdout",
     "output_type": "stream",
     "text": [
      "Accuracy using desicion Tree:  99.6 %\n"
     ]
    }
   ],
   "source": [
    "score1 = accuracy_score(y_test, y_pred) * 100 #score\n",
    "print(\"Accuracy using desicion Tree: \", round(score1, 1), \"%\" )"
   ]
  },
  {
   "cell_type": "code",
   "execution_count": 17,
   "metadata": {},
   "outputs": [
    {
     "data": {
      "text/plain": [
       "0.003572373643821117"
      ]
     },
     "execution_count": 17,
     "metadata": {},
     "output_type": "execute_result"
    }
   ],
   "source": [
    "DT_error=np.mean(y_pred != y_test) # error rate\n",
    "DT_error"
   ]
  },
  {
   "cell_type": "code",
   "execution_count": 18,
   "metadata": {
    "scrolled": true
   },
   "outputs": [
    {
     "name": "stdout",
     "output_type": "stream",
     "text": [
      "Confusion Matrix:\n",
      " [[3549   11]\n",
      " [  16 3982]]\n",
      "              precision    recall  f1-score   support\n",
      "\n",
      "     anomaly       1.00      1.00      1.00      3560\n",
      "      normal       1.00      1.00      1.00      3998\n",
      "\n",
      "    accuracy                           1.00      7558\n",
      "   macro avg       1.00      1.00      1.00      7558\n",
      "weighted avg       1.00      1.00      1.00      7558\n",
      "\n"
     ]
    },
    {
     "data": {
      "text/plain": [
       "<AxesSubplot:>"
      ]
     },
     "execution_count": 18,
     "metadata": {},
     "output_type": "execute_result"
    },
    {
     "data": {
      "image/png": "[encoded data removed]",
      "text/plain": [
       "<Figure size 432x288 with 2 Axes>"
      ]
     },
     "metadata": {
      "needs_background": "light"
     },
     "output_type": "display_data"
    }
   ],
   "source": [
    "cm_dt= confusion_matrix(y_test, y_pred)\n",
    "print(\"Confusion Matrix:\\n\",cm_dt)\n",
    "print(classification_report(y_test, y_pred))\n",
    "sns.heatmap(cm_dt, annot=True)"
   ]
  },
  {
   "cell_type": "code",
   "execution_count": 19,
   "metadata": {},
   "outputs": [],
   "source": [
    "# import time\n",
    "\n",
    "# def procedure():\n",
    "#    time.sleep(2.5)\n",
    "\n",
    "# # measure process time\n",
    "# t0 = time.clock()\n",
    "# procedure()\n",
    "# print (time.clock())\n",
    "\n",
    "# # measure wall time\n",
    "# t0 = time.time()\n",
    "# procedure()\n",
    "# print (time.time() - t0)"
   ]
  },
  {
   "cell_type": "markdown",
   "metadata": {},
   "source": [
    "# Multi-layer precission\n"
   ]
  },
  {
   "cell_type": "code",
   "execution_count": 20,
   "metadata": {},
   "outputs": [
    {
     "name": "stdout",
     "output_type": "stream",
     "text": [
      "Wall time: 3.08 s\n"
     ]
    }
   ],
   "source": [
    "%%time\n",
    "mlp = MLPClassifier()\n",
    "mlp = mlp.fit(x_train, y_train)\n",
    "y_pred=mlp.predict(x_test)"
   ]
  },
  {
   "cell_type": "code",
   "execution_count": 21,
   "metadata": {
    "scrolled": true
   },
   "outputs": [
    {
     "name": "stdout",
     "output_type": "stream",
     "text": [
      "Accuracy:  94.87959777718973\n"
     ]
    }
   ],
   "source": [
    "nb=mlp.score(x_test,y_test)\n",
    "p=100\n",
    "m2=nb*p\n",
    "print(\"Accuracy: \",m2)"
   ]
  },
  {
   "cell_type": "code",
   "execution_count": 22,
   "metadata": {},
   "outputs": [
    {
     "name": "stdout",
     "output_type": "stream",
     "text": [
      "Accuracy using MLP:  94.9 %\n"
     ]
    }
   ],
   "source": [
    "score2 = accuracy_score(y_test, y_pred) * 100\n",
    "print(\"Accuracy using MLP: \", round(score2, 1), \"%\" )"
   ]
  },
  {
   "cell_type": "code",
   "execution_count": 23,
   "metadata": {},
   "outputs": [
    {
     "data": {
      "text/plain": [
       "0.05120402222810267"
      ]
     },
     "execution_count": 23,
     "metadata": {},
     "output_type": "execute_result"
    }
   ],
   "source": [
    "mlp_error=np.mean(y_pred != y_test) # error rate\n",
    "mlp_error"
   ]
  },
  {
   "cell_type": "code",
   "execution_count": 24,
   "metadata": {},
   "outputs": [
    {
     "name": "stdout",
     "output_type": "stream",
     "text": [
      "Confusion Matrix:\n",
      " [[3363  197]\n",
      " [ 190 3808]]\n",
      "              precision    recall  f1-score   support\n",
      "\n",
      "     anomaly       0.95      0.94      0.95      3560\n",
      "      normal       0.95      0.95      0.95      3998\n",
      "\n",
      "    accuracy                           0.95      7558\n",
      "   macro avg       0.95      0.95      0.95      7558\n",
      "weighted avg       0.95      0.95      0.95      7558\n",
      "\n"
     ]
    },
    {
     "data": {
      "text/plain": [
       "<AxesSubplot:>"
      ]
     },
     "execution_count": 24,
     "metadata": {},
     "output_type": "execute_result"
    },
    {
     "data": {
      "image/png": "[encoded data removed]",
      "text/plain": [
       "<Figure size 432x288 with 2 Axes>"
      ]
     },
     "metadata": {
      "needs_background": "light"
     },
     "output_type": "display_data"
    }
   ],
   "source": [
    "cm_mlp= confusion_matrix(y_test, y_pred)\n",
    "print(\"Confusion Matrix:\\n\",cm_mlp)\n",
    "print(classification_report(y_test, y_pred))\n",
    "sns.heatmap(cm_mlp, annot=True)"
   ]
  },
  {
   "cell_type": "markdown",
   "metadata": {},
   "source": [
    "# Nurel Network"
   ]
  },
  {
   "cell_type": "code",
   "execution_count": 25,
   "metadata": {},
   "outputs": [
    {
     "name": "stdout",
     "output_type": "stream",
     "text": [
      "Wall time: 4.01 s\n"
     ]
    }
   ],
   "source": [
    "%%time\n",
    "nn = MLPClassifier()\n",
    "nn = nn.fit(x_train, y_train)\n",
    "y_pred=nn.predict(x_test)"
   ]
  },
  {
   "cell_type": "code",
   "execution_count": 26,
   "metadata": {},
   "outputs": [
    {
     "name": "stdout",
     "output_type": "stream",
     "text": [
      "Accuracy:  95.17068007409367\n"
     ]
    }
   ],
   "source": [
    "nb=nn.score(x_test,y_test)\n",
    "p=100\n",
    "m3=nb*p\n",
    "print(\"Accuracy: \",m3)"
   ]
  },
  {
   "cell_type": "code",
   "execution_count": 27,
   "metadata": {},
   "outputs": [
    {
     "name": "stdout",
     "output_type": "stream",
     "text": [
      "Accuracy using NN:  95.2 %\n"
     ]
    }
   ],
   "source": [
    "score3 = accuracy_score(y_test, y_pred) * 100\n",
    "print(\"Accuracy using NN: \", round(score3, 1), \"%\" )"
   ]
  },
  {
   "cell_type": "code",
   "execution_count": 28,
   "metadata": {},
   "outputs": [
    {
     "data": {
      "text/plain": [
       "0.048293199259063245"
      ]
     },
     "execution_count": 28,
     "metadata": {},
     "output_type": "execute_result"
    }
   ],
   "source": [
    "nn_error=np.mean(y_pred != y_test) # error rate\n",
    "nn_error"
   ]
  },
  {
   "cell_type": "code",
   "execution_count": 29,
   "metadata": {},
   "outputs": [
    {
     "name": "stdout",
     "output_type": "stream",
     "text": [
      "Confusion Matrix:\n",
      " [[3431  129]\n",
      " [ 236 3762]]\n",
      "              precision    recall  f1-score   support\n",
      "\n",
      "     anomaly       0.94      0.96      0.95      3560\n",
      "      normal       0.97      0.94      0.95      3998\n",
      "\n",
      "    accuracy                           0.95      7558\n",
      "   macro avg       0.95      0.95      0.95      7558\n",
      "weighted avg       0.95      0.95      0.95      7558\n",
      "\n"
     ]
    },
    {
     "data": {
      "text/plain": [
       "<AxesSubplot:>"
      ]
     },
     "execution_count": 29,
     "metadata": {},
     "output_type": "execute_result"
    },
    {
     "data": {
      "image/png": "[encoded data removed]",
      "text/plain": [
       "<Figure size 432x288 with 2 Axes>"
      ]
     },
     "metadata": {
      "needs_background": "light"
     },
     "output_type": "display_data"
    }
   ],
   "source": [
    "cm_nn= confusion_matrix(y_test, y_pred)\n",
    "print(\"Confusion Matrix:\\n\",cm_nn)\n",
    "print(classification_report(y_test, y_pred))\n",
    "sns.heatmap(cm_nn, annot=True)"
   ]
  },
  {
   "cell_type": "markdown",
   "metadata": {},
   "source": [
    "# Random Forest"
   ]
  },
  {
   "cell_type": "code",
   "execution_count": 30,
   "metadata": {},
   "outputs": [
    {
     "name": "stdout",
     "output_type": "stream",
     "text": [
      "Wall time: 1.83 s\n"
     ]
    }
   ],
   "source": [
    "%%time\n",
    "rf = RandomForestClassifier()\n",
    "rf = rf.fit(x_train, y_train)\n",
    "y_pred=rf.predict(x_test)"
   ]
  },
  {
   "cell_type": "code",
   "execution_count": 31,
   "metadata": {},
   "outputs": [
    {
     "name": "stdout",
     "output_type": "stream",
     "text": [
      "Accuracy:  99.77507277057423\n"
     ]
    }
   ],
   "source": [
    "nb=rf.score(x_test,y_test)\n",
    "p=100\n",
    "m4=nb*p\n",
    "print(\"Accuracy: \",m4)"
   ]
  },
  {
   "cell_type": "code",
   "execution_count": 32,
   "metadata": {},
   "outputs": [
    {
     "name": "stdout",
     "output_type": "stream",
     "text": [
      "Accuracy using :  99.8 %\n"
     ]
    }
   ],
   "source": [
    "score4 = accuracy_score(y_test, y_pred) * 100\n",
    "print(\"Accuracy using : \", round(score4, 1), \"%\" )"
   ]
  },
  {
   "cell_type": "code",
   "execution_count": 33,
   "metadata": {},
   "outputs": [
    {
     "data": {
      "text/plain": [
       "0.00224927229425774"
      ]
     },
     "execution_count": 33,
     "metadata": {},
     "output_type": "execute_result"
    }
   ],
   "source": [
    "rf_error=np.mean(y_pred != y_test) # error rate\n",
    "rf_error"
   ]
  },
  {
   "cell_type": "code",
   "execution_count": 34,
   "metadata": {},
   "outputs": [
    {
     "name": "stdout",
     "output_type": "stream",
     "text": [
      "Confusion Matrix:\n",
      " [[3547   13]\n",
      " [   4 3994]]\n",
      "              precision    recall  f1-score   support\n",
      "\n",
      "     anomaly       1.00      1.00      1.00      3560\n",
      "      normal       1.00      1.00      1.00      3998\n",
      "\n",
      "    accuracy                           1.00      7558\n",
      "   macro avg       1.00      1.00      1.00      7558\n",
      "weighted avg       1.00      1.00      1.00      7558\n",
      "\n"
     ]
    },
    {
     "data": {
      "text/plain": [
       "<AxesSubplot:>"
      ]
     },
     "execution_count": 34,
     "metadata": {},
     "output_type": "execute_result"
    },
    {
     "data": {
      "image/png": "[encoded data removed]",
      "text/plain": [
       "<Figure size 432x288 with 2 Axes>"
      ]
     },
     "metadata": {
      "needs_background": "light"
     },
     "output_type": "display_data"
    }
   ],
   "source": [
    "cm_rf= confusion_matrix(y_test, y_pred)\n",
    "print(\"Confusion Matrix:\\n\",cm_rf)\n",
    "print(classification_report(y_test, y_pred))\n",
    "sns.heatmap(cm_rf, annot=True)"
   ]
  },
  {
   "cell_type": "markdown",
   "metadata": {},
   "source": [
    "# KNeighbors"
   ]
  },
  {
   "cell_type": "code",
   "execution_count": 35,
   "metadata": {},
   "outputs": [
    {
     "name": "stdout",
     "output_type": "stream",
     "text": [
      "Wall time: 1.68 s\n"
     ]
    }
   ],
   "source": [
    "%%time\n",
    "kn = KNeighborsClassifier()\n",
    "kn = kn.fit(x_train, y_train)\n",
    "y_pred=kn.predict(x_test)\n"
   ]
  },
  {
   "cell_type": "code",
   "execution_count": 36,
   "metadata": {},
   "outputs": [
    {
     "name": "stdout",
     "output_type": "stream",
     "text": [
      "Accuracy:  98.75628473141043\n"
     ]
    }
   ],
   "source": [
    "nb=kn.score(x_test,y_test)\n",
    "p=100\n",
    "m5=nb*p\n",
    "print(\"Accuracy: \",m5)"
   ]
  },
  {
   "cell_type": "code",
   "execution_count": 37,
   "metadata": {},
   "outputs": [
    {
     "name": "stdout",
     "output_type": "stream",
     "text": [
      "Accuracy using :  98.8 %\n"
     ]
    }
   ],
   "source": [
    "score5 = accuracy_score(y_test, y_pred) * 100\n",
    "print(\"Accuracy using : \", round(score5, 1), \"%\" )"
   ]
  },
  {
   "cell_type": "code",
   "execution_count": 38,
   "metadata": {},
   "outputs": [
    {
     "data": {
      "text/plain": [
       "0.01243715268589574"
      ]
     },
     "execution_count": 38,
     "metadata": {},
     "output_type": "execute_result"
    }
   ],
   "source": [
    "kn_error=np.mean(y_pred != y_test) # error rate\n",
    "kn_error\n"
   ]
  },
  {
   "cell_type": "code",
   "execution_count": 39,
   "metadata": {},
   "outputs": [
    {
     "name": "stdout",
     "output_type": "stream",
     "text": [
      "Confusion Matrix:\n",
      " [[3516   44]\n",
      " [  50 3948]]\n",
      "              precision    recall  f1-score   support\n",
      "\n",
      "     anomaly       0.99      0.99      0.99      3560\n",
      "      normal       0.99      0.99      0.99      3998\n",
      "\n",
      "    accuracy                           0.99      7558\n",
      "   macro avg       0.99      0.99      0.99      7558\n",
      "weighted avg       0.99      0.99      0.99      7558\n",
      "\n"
     ]
    },
    {
     "data": {
      "text/plain": [
       "<AxesSubplot:>"
      ]
     },
     "execution_count": 39,
     "metadata": {},
     "output_type": "execute_result"
    },
    {
     "data": {
      "image/png": "[encoded data removed]",
      "text/plain": [
       "<Figure size 432x288 with 2 Axes>"
      ]
     },
     "metadata": {
      "needs_background": "light"
     },
     "output_type": "display_data"
    }
   ],
   "source": [
    "cm_kn= confusion_matrix(y_test, y_pred)\n",
    "print(\"Confusion Matrix:\\n\",cm_kn)\n",
    "print(classification_report(y_test, y_pred))\n",
    "sns.heatmap(cm_kn, annot=True)"
   ]
  },
  {
   "cell_type": "markdown",
   "metadata": {},
   "source": [
    "# Naive Bayes"
   ]
  },
  {
   "cell_type": "code",
   "execution_count": 40,
   "metadata": {},
   "outputs": [
    {
     "name": "stdout",
     "output_type": "stream",
     "text": [
      "Wall time: 78.8 ms\n"
     ]
    }
   ],
   "source": [
    "%%time\n",
    "nby = GaussianNB()\n",
    "nby = nby.fit(x_train, y_train)\n",
    "y_pred=nby.predict(x_test)"
   ]
  },
  {
   "cell_type": "code",
   "execution_count": 41,
   "metadata": {},
   "outputs": [
    {
     "name": "stdout",
     "output_type": "stream",
     "text": [
      "Accuracy:  54.882243979888855\n"
     ]
    }
   ],
   "source": [
    "nb=nby.score(x_test,y_test)\n",
    "p=100\n",
    "m6=nb*p\n",
    "print(\"Accuracy: \",m6)"
   ]
  },
  {
   "cell_type": "code",
   "execution_count": 42,
   "metadata": {},
   "outputs": [
    {
     "name": "stdout",
     "output_type": "stream",
     "text": [
      "Accuracy using :  54.9 %\n"
     ]
    }
   ],
   "source": [
    "score6 = accuracy_score(y_test, y_pred) * 100\n",
    "print(\"Accuracy using : \", round(score6, 1), \"%\" )"
   ]
  },
  {
   "cell_type": "code",
   "execution_count": 43,
   "metadata": {},
   "outputs": [
    {
     "data": {
      "text/plain": [
       "0.4511775602011114"
      ]
     },
     "execution_count": 43,
     "metadata": {},
     "output_type": "execute_result"
    }
   ],
   "source": [
    "nby_error=np.mean(y_pred != y_test) # error rate\n",
    "nby_error"
   ]
  },
  {
   "cell_type": "code",
   "execution_count": 44,
   "metadata": {},
   "outputs": [
    {
     "name": "stdout",
     "output_type": "stream",
     "text": [
      "Confusion Matrix:\n",
      " [[ 241 3319]\n",
      " [  91 3907]]\n",
      "              precision    recall  f1-score   support\n",
      "\n",
      "     anomaly       0.73      0.07      0.12      3560\n",
      "      normal       0.54      0.98      0.70      3998\n",
      "\n",
      "    accuracy                           0.55      7558\n",
      "   macro avg       0.63      0.52      0.41      7558\n",
      "weighted avg       0.63      0.55      0.43      7558\n",
      "\n"
     ]
    },
    {
     "data": {
      "text/plain": [
       "<AxesSubplot:>"
      ]
     },
     "execution_count": 44,
     "metadata": {},
     "output_type": "execute_result"
    },
    {
     "data": {
      "image/png": "[encoded data removed]",
      "text/plain": [
       "<Figure size 432x288 with 2 Axes>"
      ]
     },
     "metadata": {
      "needs_background": "light"
     },
     "output_type": "display_data"
    }
   ],
   "source": [
    "cm_nby= confusion_matrix(y_test, y_pred)\n",
    "print(\"Confusion Matrix:\\n\",cm_nby)\n",
    "print(classification_report(y_test, y_pred))\n",
    "sns.heatmap(cm_nby, annot=True)"
   ]
  },
  {
   "cell_type": "markdown",
   "metadata": {},
   "source": [
    "# Support vector machine"
   ]
  },
  {
   "cell_type": "code",
   "execution_count": 45,
   "metadata": {},
   "outputs": [
    {
     "name": "stdout",
     "output_type": "stream",
     "text": [
      "Wall time: 41.9 s\n"
     ]
    }
   ],
   "source": [
    "%%time\n",
    "svm = SVC()\n",
    "svm = svm.fit(x_train, y_train)"
   ]
  },
  {
   "cell_type": "code",
   "execution_count": 46,
   "metadata": {},
   "outputs": [],
   "source": [
    "y_pred=svm.predict(x_test)"
   ]
  },
  {
   "cell_type": "code",
   "execution_count": 47,
   "metadata": {},
   "outputs": [
    {
     "name": "stdout",
     "output_type": "stream",
     "text": [
      "Accuracy:  52.9372849960307\n"
     ]
    }
   ],
   "source": [
    "nb=svm.score(x_test,y_test)\n",
    "p=100\n",
    "m7=nb*p\n",
    "print(\"Accuracy: \",m7)"
   ]
  },
  {
   "cell_type": "code",
   "execution_count": 48,
   "metadata": {},
   "outputs": [
    {
     "name": "stdout",
     "output_type": "stream",
     "text": [
      "Accuracy using :  52.9 %\n"
     ]
    }
   ],
   "source": [
    "score7 = accuracy_score(y_test, y_pred) * 100\n",
    "print(\"Accuracy using : \", round(score7, 1), \"%\" )"
   ]
  },
  {
   "cell_type": "code",
   "execution_count": 49,
   "metadata": {},
   "outputs": [
    {
     "data": {
      "text/plain": [
       "0.470627150039693"
      ]
     },
     "execution_count": 49,
     "metadata": {},
     "output_type": "execute_result"
    }
   ],
   "source": [
    "svm_error=np.mean(y_pred != y_test) # error rate\n",
    "svm_error"
   ]
  },
  {
   "cell_type": "code",
   "execution_count": 50,
   "metadata": {},
   "outputs": [
    {
     "name": "stdout",
     "output_type": "stream",
     "text": [
      "Confusion Matrix:\n",
      " [[   5 3555]\n",
      " [   2 3996]]\n",
      "              precision    recall  f1-score   support\n",
      "\n",
      "     anomaly       0.71      0.00      0.00      3560\n",
      "      normal       0.53      1.00      0.69      3998\n",
      "\n",
      "    accuracy                           0.53      7558\n",
      "   macro avg       0.62      0.50      0.35      7558\n",
      "weighted avg       0.62      0.53      0.37      7558\n",
      "\n"
     ]
    },
    {
     "data": {
      "text/plain": [
       "<AxesSubplot:>"
      ]
     },
     "execution_count": 50,
     "metadata": {},
     "output_type": "execute_result"
    },
    {
     "data": {
      "image/png": "[encoded data removed]",
      "text/plain": [
       "<Figure size 432x288 with 2 Axes>"
      ]
     },
     "metadata": {
      "needs_background": "light"
     },
     "output_type": "display_data"
    }
   ],
   "source": [
    "cm_svm= confusion_matrix(y_test, y_pred)\n",
    "print(\"Confusion Matrix:\\n\",cm_svm)\n",
    "print(classification_report(y_test, y_pred))\n",
    "sns.heatmap(cm_svm, annot=True)"
   ]
  },
  {
   "cell_type": "code",
   "execution_count": null,
   "metadata": {},
   "outputs": [],
   "source": []
  }
 ],
 "metadata": {
  "kernelspec": {
   "display_name": "Python 3",
   "language": "python",
   "name": "python3"
  },
  "language_info": {
   "codemirror_mode": {
    "name": "ipython",
    "version": 3
   },
   "file_extension": ".py",
   "mimetype": "text/x-python",
   "name": "python",
   "nbconvert_exporter": "python",
   "pygments_lexer": "ipython3",
   "version": "3.8.5"
  }
 },
 "nbformat": 4,
 "nbformat_minor": 4
}
