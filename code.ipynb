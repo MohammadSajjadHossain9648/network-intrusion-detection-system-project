{
 "cells": [
  {
   "cell_type": "code",
   "execution_count": 1,
   "metadata": {},
   "outputs": [],
   "source": [
    "import numpy as np\n",
    "import pandas as pd\n",
    "import matplotlib.pyplot as plt\n",
    "import math\n",
    "import seaborn as sns\n",
    "%matplotlib inline\n",
    "from sklearn import preprocessing \n",
    "from sklearn.model_selection import train_test_split\n",
    "from sklearn.metrics import accuracy_score\n",
    "from sklearn.metrics import classification_report\n",
    "from sklearn.metrics import confusion_matrix\n",
    "from sklearn import tree\n",
    "from sklearn.neural_network import MLPClassifier\n",
    "from sklearn.ensemble import RandomForestClassifier\n",
    "from sklearn.neighbors import KNeighborsClassifier\n",
    "from sklearn.naive_bayes import BernoulliNB \n",
    "from sklearn.svm import SVC\n",
    "from sklearn.linear_model import LogisticRegression\n",
    "from sklearn.metrics import recall_score"
   ]
  },
  {
   "cell_type": "code",
   "execution_count": 2,
   "metadata": {},
   "outputs": [],
   "source": [
    "data=pd.read_csv(r\"C:\\Users\\TNF\\Desktop\\thesis\\network-intrusion-detection-system-project\\Train_data.csv\")"
   ]
  },
  {
   "cell_type": "code",
   "execution_count": 3,
   "metadata": {},
   "outputs": [],
   "source": [
    "data.drop(['num_outbound_cmds'], axis=1, inplace=True)"
   ]
  },
  {
   "cell_type": "code",
   "execution_count": 4,
   "metadata": {},
   "outputs": [
    {
     "data": {
      "text/plain": [
       "array(['tcp', 'udp', 'icmp'], dtype=object)"
      ]
     },
     "execution_count": 4,
     "metadata": {},
     "output_type": "execute_result"
    }
   ],
   "source": [
    "data['protocol_type'].unique()"
   ]
  },
  {
   "cell_type": "code",
   "execution_count": 5,
   "metadata": {},
   "outputs": [
    {
     "data": {
      "text/plain": [
       "array([1, 2, 0])"
      ]
     },
     "execution_count": 5,
     "metadata": {},
     "output_type": "execute_result"
    }
   ],
   "source": [
    "label_encoder=preprocessing.LabelEncoder()\n",
    "data['protocol_type']= label_encoder.fit_transform(data['protocol_type'])\n",
    "data['protocol_type'].unique()"
   ]
  },
  {
   "cell_type": "code",
   "execution_count": 6,
   "metadata": {},
   "outputs": [
    {
     "data": {
      "text/plain": [
       "array(['ftp_data', 'other', 'private', 'http', 'remote_job', 'name',\n",
       "       'netbios_ns', 'eco_i', 'mtp', 'telnet', 'finger', 'domain_u',\n",
       "       'supdup', 'uucp_path', 'Z39_50', 'smtp', 'csnet_ns', 'uucp',\n",
       "       'netbios_dgm', 'urp_i', 'auth', 'domain', 'ftp', 'bgp', 'ldap',\n",
       "       'ecr_i', 'gopher', 'vmnet', 'systat', 'http_443', 'efs', 'whois',\n",
       "       'imap4', 'iso_tsap', 'echo', 'klogin', 'link', 'sunrpc', 'login',\n",
       "       'kshell', 'sql_net', 'time', 'hostnames', 'exec', 'ntp_u',\n",
       "       'discard', 'nntp', 'courier', 'ctf', 'ssh', 'daytime', 'shell',\n",
       "       'netstat', 'pop_3', 'nnsp', 'IRC', 'pop_2', 'printer', 'tim_i',\n",
       "       'pm_dump', 'red_i', 'netbios_ssn', 'rje', 'X11', 'urh_i',\n",
       "       'http_8001'], dtype=object)"
      ]
     },
     "execution_count": 6,
     "metadata": {},
     "output_type": "execute_result"
    }
   ],
   "source": [
    "data['service'].unique()"
   ]
  },
  {
   "cell_type": "code",
   "execution_count": 7,
   "metadata": {},
   "outputs": [
    {
     "data": {
      "text/plain": [
       "array([19, 41, 46, 22, 48, 33, 35, 13, 32, 57, 17, 11, 55, 63,  2, 51,  6,\n",
       "       62, 34, 61,  3, 10, 18,  4, 29, 14, 20, 64, 56, 23, 15, 65, 25, 26,\n",
       "       12, 27, 30, 54, 31, 28, 52, 59, 21, 16, 40,  9, 39,  5,  7, 53,  8,\n",
       "       50, 37, 44, 38,  0, 43, 45, 58, 42, 47, 36, 49,  1, 60, 24])"
      ]
     },
     "execution_count": 7,
     "metadata": {},
     "output_type": "execute_result"
    }
   ],
   "source": [
    "label_encoder=preprocessing.LabelEncoder()\n",
    "data['service']= label_encoder.fit_transform(data['service'])\n",
    "data['service'].unique()"
   ]
  },
  {
   "cell_type": "code",
   "execution_count": 8,
   "metadata": {},
   "outputs": [
    {
     "data": {
      "text/plain": [
       "array(['SF', 'S0', 'REJ', 'RSTR', 'SH', 'RSTO', 'S1', 'RSTOS0', 'S3',\n",
       "       'S2', 'OTH'], dtype=object)"
      ]
     },
     "execution_count": 8,
     "metadata": {},
     "output_type": "execute_result"
    }
   ],
   "source": [
    "data['flag'].unique()"
   ]
  },
  {
   "cell_type": "code",
   "execution_count": 9,
   "metadata": {},
   "outputs": [
    {
     "data": {
      "text/plain": [
       "array([ 9,  5,  1,  4, 10,  2,  6,  3,  8,  7,  0])"
      ]
     },
     "execution_count": 9,
     "metadata": {},
     "output_type": "execute_result"
    }
   ],
   "source": [
    "label_encoder=preprocessing.LabelEncoder()\n",
    "data['flag']= label_encoder.fit_transform(data['flag'])\n",
    "data['flag'].unique()"
   ]
  },
  {
   "cell_type": "code",
   "execution_count": 10,
   "metadata": {},
   "outputs": [],
   "source": [
    "x=data.drop('class', axis=1)\n",
    "y=data['class']\n",
    "x_train, x_test, y_train, y_test = train_test_split(x,y, test_size=0.5)"
   ]
  },
  {
   "cell_type": "markdown",
   "metadata": {},
   "source": [
    "# Decission tree\n"
   ]
  },
  {
   "cell_type": "code",
   "execution_count": 11,
   "metadata": {},
   "outputs": [
    {
     "name": "stdout",
     "output_type": "stream",
     "text": [
      "Wall time: 110 ms\n"
     ]
    }
   ],
   "source": [
    "%%time\n",
    "dt=tree.DecisionTreeClassifier()\n",
    "execution1=dt.fit(x_train, y_train)\n",
    "y_pred=dt.predict(x_test)"
   ]
  },
  {
   "cell_type": "code",
   "execution_count": 12,
   "metadata": {},
   "outputs": [
    {
     "name": "stdout",
     "output_type": "stream",
     "text": [
      "Accuracy:  99.41251190854238\n"
     ]
    }
   ],
   "source": [
    "nb=dt.score(x_test,y_test)\n",
    "m1=nb*100\n",
    "print(\"Accuracy: \",m1)"
   ]
  },
  {
   "cell_type": "code",
   "execution_count": 13,
   "metadata": {},
   "outputs": [
    {
     "name": "stdout",
     "output_type": "stream",
     "text": [
      "Accuracy using desicion Tree:  99.4 %\n"
     ]
    }
   ],
   "source": [
    "score1=accuracy_score(y_test, y_pred) * 100 #score\n",
    "print(\"Accuracy using desicion Tree: \", round(score1, 1), \"%\" )"
   ]
  },
  {
   "cell_type": "code",
   "execution_count": 14,
   "metadata": {},
   "outputs": [
    {
     "data": {
      "text/plain": [
       "0.005874880914576056"
      ]
     },
     "execution_count": 14,
     "metadata": {},
     "output_type": "execute_result"
    }
   ],
   "source": [
    "error1=np.mean(y_pred != y_test) # error rate\n",
    "error1"
   ]
  },
  {
   "cell_type": "code",
   "execution_count": 15,
   "metadata": {
    "scrolled": true
   },
   "outputs": [
    {
     "name": "stdout",
     "output_type": "stream",
     "text": [
      "Confusion Matrix:\n",
      " [[5889   38]\n",
      " [  36 6633]]\n",
      "Classification Report:\n",
      "               precision    recall  f1-score   support\n",
      "\n",
      "     anomaly       0.99      0.99      0.99      5927\n",
      "      normal       0.99      0.99      0.99      6669\n",
      "\n",
      "    accuracy                           0.99     12596\n",
      "   macro avg       0.99      0.99      0.99     12596\n",
      "weighted avg       0.99      0.99      0.99     12596\n",
      "\n"
     ]
    },
    {
     "data": {
      "text/plain": [
       "<AxesSubplot:>"
      ]
     },
     "execution_count": 15,
     "metadata": {},
     "output_type": "execute_result"
    },
    {
     "data": {
      "image/png": "[encoded data removed]",
      "text/plain": [
       "<Figure size 432x288 with 2 Axes>"
      ]
     },
     "metadata": {
      "needs_background": "light"
     },
     "output_type": "display_data"
    }
   ],
   "source": [
    "cm1=confusion_matrix(y_test, y_pred)\n",
    "print(\"Confusion Matrix:\\n\",cm1)\n",
    "cr1=classification_report(y_test, y_pred)\n",
    "print(\"Classification Report:\\n\",cr1)\n",
    "sns.heatmap(cm1, annot=True)"
   ]
  },
  {
   "cell_type": "code",
   "execution_count": 16,
   "metadata": {},
   "outputs": [],
   "source": [
    "# import time\n",
    "\n",
    "# def procedure():\n",
    "#    time.sleep(2.5)\n",
    "\n",
    "# # measure process time\n",
    "# t0 = time.clock()\n",
    "# procedure()\n",
    "# print (time.clock())\n",
    "\n",
    "# # measure wall time\n",
    "# t0 = time.time()\n",
    "# procedure()\n",
    "# print (time.time() - t0)"
   ]
  },
  {
   "cell_type": "markdown",
   "metadata": {},
   "source": [
    "# Multi-layer precission\n"
   ]
  },
  {
   "cell_type": "code",
   "execution_count": 17,
   "metadata": {},
   "outputs": [
    {
     "name": "stdout",
     "output_type": "stream",
     "text": [
      "Wall time: 1.95 s\n"
     ]
    }
   ],
   "source": [
    "%%time\n",
    "mlp=MLPClassifier()\n",
    "execution2=mlp.fit(x_train, y_train)\n",
    "y_pred=mlp.predict(x_test)"
   ]
  },
  {
   "cell_type": "code",
   "execution_count": 18,
   "metadata": {
    "scrolled": true
   },
   "outputs": [
    {
     "name": "stdout",
     "output_type": "stream",
     "text": [
      "Accuracy:  95.06986344871387\n"
     ]
    }
   ],
   "source": [
    "nb=mlp.score(x_test,y_test)\n",
    "m2=nb*100\n",
    "print(\"Accuracy: \",m2)"
   ]
  },
  {
   "cell_type": "code",
   "execution_count": 19,
   "metadata": {},
   "outputs": [
    {
     "name": "stdout",
     "output_type": "stream",
     "text": [
      "Accuracy using multi-layer precission:  95.1 %\n"
     ]
    }
   ],
   "source": [
    "score2=accuracy_score(y_test, y_pred) * 100\n",
    "print(\"Accuracy using multi-layer precission: \", round(score2, 1), \"%\" )"
   ]
  },
  {
   "cell_type": "code",
   "execution_count": 20,
   "metadata": {},
   "outputs": [
    {
     "data": {
      "text/plain": [
       "0.049301365512861225"
      ]
     },
     "execution_count": 20,
     "metadata": {},
     "output_type": "execute_result"
    }
   ],
   "source": [
    "error2=np.mean(y_pred != y_test) # error rate\n",
    "error2"
   ]
  },
  {
   "cell_type": "code",
   "execution_count": 21,
   "metadata": {},
   "outputs": [
    {
     "name": "stdout",
     "output_type": "stream",
     "text": [
      "Confusion Matrix:\n",
      " [[5574  353]\n",
      " [ 268 6401]]\n",
      "Classification Report:\n",
      "               precision    recall  f1-score   support\n",
      "\n",
      "     anomaly       0.95      0.94      0.95      5927\n",
      "      normal       0.95      0.96      0.95      6669\n",
      "\n",
      "    accuracy                           0.95     12596\n",
      "   macro avg       0.95      0.95      0.95     12596\n",
      "weighted avg       0.95      0.95      0.95     12596\n",
      "\n"
     ]
    },
    {
     "data": {
      "text/plain": [
       "<AxesSubplot:>"
      ]
     },
     "execution_count": 21,
     "metadata": {},
     "output_type": "execute_result"
    },
    {
     "data": {
      "image/png": "[encoded data removed]",
      "text/plain": [
       "<Figure size 432x288 with 2 Axes>"
      ]
     },
     "metadata": {
      "needs_background": "light"
     },
     "output_type": "display_data"
    }
   ],
   "source": [
    "cm2=confusion_matrix(y_test, y_pred)\n",
    "print(\"Confusion Matrix:\\n\",cm2)\n",
    "cr2=classification_report(y_test, y_pred)\n",
    "print(\"Classification Report:\\n\",cr2)\n",
    "sns.heatmap(cm2, annot=True)"
   ]
  },
  {
   "cell_type": "markdown",
   "metadata": {},
   "source": [
    "# Neural Network"
   ]
  },
  {
   "cell_type": "code",
   "execution_count": 22,
   "metadata": {},
   "outputs": [
    {
     "name": "stdout",
     "output_type": "stream",
     "text": [
      "Wall time: 2.38 s\n"
     ]
    }
   ],
   "source": [
    "%%time\n",
    "nn=MLPClassifier()\n",
    "execution3=nn.fit(x_train, y_train)\n",
    "y_pred=nn.predict(x_test)"
   ]
  },
  {
   "cell_type": "code",
   "execution_count": 23,
   "metadata": {},
   "outputs": [
    {
     "name": "stdout",
     "output_type": "stream",
     "text": [
      "Accuracy:  94.7602413464592\n"
     ]
    }
   ],
   "source": [
    "nb=nn.score(x_test,y_test)\n",
    "m3=nb*100\n",
    "print(\"Accuracy: \",m3)"
   ]
  },
  {
   "cell_type": "code",
   "execution_count": 24,
   "metadata": {},
   "outputs": [
    {
     "name": "stdout",
     "output_type": "stream",
     "text": [
      "Accuracy using neural network:  94.8 %\n"
     ]
    }
   ],
   "source": [
    "score3=accuracy_score(y_test, y_pred) * 100\n",
    "print(\"Accuracy using neural network: \", round(score3, 1), \"%\" )"
   ]
  },
  {
   "cell_type": "code",
   "execution_count": 25,
   "metadata": {},
   "outputs": [
    {
     "data": {
      "text/plain": [
       "0.05239758653540807"
      ]
     },
     "execution_count": 25,
     "metadata": {},
     "output_type": "execute_result"
    }
   ],
   "source": [
    "error3=np.mean(y_pred != y_test) # error rate\n",
    "error3"
   ]
  },
  {
   "cell_type": "code",
   "execution_count": 26,
   "metadata": {},
   "outputs": [
    {
     "name": "stdout",
     "output_type": "stream",
     "text": [
      "Confusion Matrix:\n",
      " [[5619  308]\n",
      " [ 352 6317]]\n",
      "Classification Report:\n",
      "               precision    recall  f1-score   support\n",
      "\n",
      "     anomaly       0.94      0.95      0.94      5927\n",
      "      normal       0.95      0.95      0.95      6669\n",
      "\n",
      "    accuracy                           0.95     12596\n",
      "   macro avg       0.95      0.95      0.95     12596\n",
      "weighted avg       0.95      0.95      0.95     12596\n",
      "\n"
     ]
    },
    {
     "data": {
      "text/plain": [
       "<AxesSubplot:>"
      ]
     },
     "execution_count": 26,
     "metadata": {},
     "output_type": "execute_result"
    },
    {
     "data": {
      "image/png": "[encoded data removed]",
      "text/plain": [
       "<Figure size 432x288 with 2 Axes>"
      ]
     },
     "metadata": {
      "needs_background": "light"
     },
     "output_type": "display_data"
    }
   ],
   "source": [
    "cm3=confusion_matrix(y_test, y_pred)\n",
    "print(\"Confusion Matrix:\\n\",cm3)\n",
    "cr3=classification_report(y_test, y_pred)\n",
    "print(\"Classification Report:\\n\",cr3)\n",
    "sns.heatmap(cm3, annot=True)"
   ]
  },
  {
   "cell_type": "markdown",
   "metadata": {},
   "source": [
    "# Random Forest"
   ]
  },
  {
   "cell_type": "code",
   "execution_count": 27,
   "metadata": {},
   "outputs": [
    {
     "name": "stdout",
     "output_type": "stream",
     "text": [
      "Wall time: 1.5 s\n"
     ]
    }
   ],
   "source": [
    "%%time\n",
    "rf=RandomForestClassifier()\n",
    "execution4=rf.fit(x_train, y_train)\n",
    "y_pred=rf.predict(x_test)"
   ]
  },
  {
   "cell_type": "code",
   "execution_count": 28,
   "metadata": {},
   "outputs": [
    {
     "name": "stdout",
     "output_type": "stream",
     "text": [
      "Accuracy:  99.65862178469355\n"
     ]
    }
   ],
   "source": [
    "nb=rf.score(x_test,y_test)\n",
    "m4=nb*100\n",
    "print(\"Accuracy: \",m4)"
   ]
  },
  {
   "cell_type": "code",
   "execution_count": 29,
   "metadata": {},
   "outputs": [
    {
     "name": "stdout",
     "output_type": "stream",
     "text": [
      "Accuracy using random forest:  99.7 %\n"
     ]
    }
   ],
   "source": [
    "score4 = accuracy_score(y_test, y_pred) * 100\n",
    "print(\"Accuracy using random forest: \", round(score4, 1), \"%\" )"
   ]
  },
  {
   "cell_type": "code",
   "execution_count": 30,
   "metadata": {},
   "outputs": [
    {
     "data": {
      "text/plain": [
       "0.003413782153064465"
      ]
     },
     "execution_count": 30,
     "metadata": {},
     "output_type": "execute_result"
    }
   ],
   "source": [
    "error4=np.mean(y_pred != y_test) # error rate\n",
    "error4"
   ]
  },
  {
   "cell_type": "code",
   "execution_count": 31,
   "metadata": {},
   "outputs": [
    {
     "name": "stdout",
     "output_type": "stream",
     "text": [
      "Confusion Matrix:\n",
      " [[5893   34]\n",
      " [   9 6660]]\n",
      "Classification Report:\n",
      "               precision    recall  f1-score   support\n",
      "\n",
      "     anomaly       1.00      0.99      1.00      5927\n",
      "      normal       0.99      1.00      1.00      6669\n",
      "\n",
      "    accuracy                           1.00     12596\n",
      "   macro avg       1.00      1.00      1.00     12596\n",
      "weighted avg       1.00      1.00      1.00     12596\n",
      "\n"
     ]
    },
    {
     "data": {
      "text/plain": [
       "<AxesSubplot:>"
      ]
     },
     "execution_count": 31,
     "metadata": {},
     "output_type": "execute_result"
    },
    {
     "data": {
      "image/png": "[encoded data removed]",
      "text/plain": [
       "<Figure size 432x288 with 2 Axes>"
      ]
     },
     "metadata": {
      "needs_background": "light"
     },
     "output_type": "display_data"
    }
   ],
   "source": [
    "cm4= confusion_matrix(y_test, y_pred)\n",
    "print(\"Confusion Matrix:\\n\",cm4)\n",
    "cr4=classification_report(y_test, y_pred)\n",
    "print(\"Classification Report:\\n\",cr4)\n",
    "sns.heatmap(cm4, annot=True)"
   ]
  },
  {
   "cell_type": "markdown",
   "metadata": {},
   "source": [
    "# K-Nearest Neighbors"
   ]
  },
  {
   "cell_type": "code",
   "execution_count": 32,
   "metadata": {},
   "outputs": [
    {
     "name": "stdout",
     "output_type": "stream",
     "text": [
      "Wall time: 2.63 s\n"
     ]
    }
   ],
   "source": [
    "%%time\n",
    "knn=KNeighborsClassifier()\n",
    "execution5=knn.fit(x_train, y_train)\n",
    "y_pred=knn.predict(x_test)"
   ]
  },
  {
   "cell_type": "code",
   "execution_count": 33,
   "metadata": {},
   "outputs": [
    {
     "name": "stdout",
     "output_type": "stream",
     "text": [
      "Accuracy:  98.34868212130836\n"
     ]
    }
   ],
   "source": [
    "nb=knn.score(x_test,y_test)\n",
    "m5=nb*100\n",
    "print(\"Accuracy: \",m5)"
   ]
  },
  {
   "cell_type": "code",
   "execution_count": 34,
   "metadata": {},
   "outputs": [
    {
     "name": "stdout",
     "output_type": "stream",
     "text": [
      "Accuracy using kneighbours:  98.3 %\n"
     ]
    }
   ],
   "source": [
    "score5=accuracy_score(y_test, y_pred) * 100\n",
    "print(\"Accuracy using kneighbours: \", round(score5, 1), \"%\" )"
   ]
  },
  {
   "cell_type": "code",
   "execution_count": 35,
   "metadata": {},
   "outputs": [
    {
     "data": {
      "text/plain": [
       "0.01651317878691648"
      ]
     },
     "execution_count": 35,
     "metadata": {},
     "output_type": "execute_result"
    }
   ],
   "source": [
    "error5=np.mean(y_pred != y_test) # error rate\n",
    "error5"
   ]
  },
  {
   "cell_type": "code",
   "execution_count": 36,
   "metadata": {},
   "outputs": [
    {
     "name": "stdout",
     "output_type": "stream",
     "text": [
      "Confusion Matrix:\n",
      " [[5815  112]\n",
      " [  96 6573]]\n",
      "Classification Report:\n",
      "               precision    recall  f1-score   support\n",
      "\n",
      "     anomaly       0.98      0.98      0.98      5927\n",
      "      normal       0.98      0.99      0.98      6669\n",
      "\n",
      "    accuracy                           0.98     12596\n",
      "   macro avg       0.98      0.98      0.98     12596\n",
      "weighted avg       0.98      0.98      0.98     12596\n",
      "\n"
     ]
    },
    {
     "data": {
      "text/plain": [
       "<AxesSubplot:>"
      ]
     },
     "execution_count": 36,
     "metadata": {},
     "output_type": "execute_result"
    },
    {
     "data": {
      "image/png": "[encoded data removed]",
      "text/plain": [
       "<Figure size 432x288 with 2 Axes>"
      ]
     },
     "metadata": {
      "needs_background": "light"
     },
     "output_type": "display_data"
    }
   ],
   "source": [
    "cm5=confusion_matrix(y_test, y_pred)\n",
    "print(\"Confusion Matrix:\\n\",cm5)\n",
    "cr5=classification_report(y_test, y_pred)\n",
    "print(\"Classification Report:\\n\",cr5)\n",
    "sns.heatmap(cm5, annot=True)"
   ]
  },
  {
   "cell_type": "markdown",
   "metadata": {},
   "source": [
    "# Naive Bayes"
   ]
  },
  {
   "cell_type": "code",
   "execution_count": 37,
   "metadata": {},
   "outputs": [
    {
     "name": "stdout",
     "output_type": "stream",
     "text": [
      "Wall time: 80.8 ms\n"
     ]
    }
   ],
   "source": [
    "%%time\n",
    "nby=BernoulliNB()\n",
    "execution6=nby.fit(x_train, y_train)\n",
    "y_pred=nby.predict(x_test)"
   ]
  },
  {
   "cell_type": "code",
   "execution_count": 38,
   "metadata": {},
   "outputs": [
    {
     "name": "stdout",
     "output_type": "stream",
     "text": [
      "Accuracy:  89.52842172118133\n"
     ]
    }
   ],
   "source": [
    "nb=nby.score(x_test,y_test)\n",
    "m6=nb*100\n",
    "print(\"Accuracy: \",m6)"
   ]
  },
  {
   "cell_type": "code",
   "execution_count": 39,
   "metadata": {},
   "outputs": [
    {
     "name": "stdout",
     "output_type": "stream",
     "text": [
      "Accuracy using naive bayes:  89.5 %\n"
     ]
    }
   ],
   "source": [
    "score6=accuracy_score(y_test, y_pred) * 100\n",
    "print(\"Accuracy using naive bayes: \", round(score6, 1), \"%\" )"
   ]
  },
  {
   "cell_type": "code",
   "execution_count": 40,
   "metadata": {},
   "outputs": [
    {
     "data": {
      "text/plain": [
       "0.10471578278818673"
      ]
     },
     "execution_count": 40,
     "metadata": {},
     "output_type": "execute_result"
    }
   ],
   "source": [
    "error6=np.mean(y_pred != y_test) # error rate\n",
    "error6"
   ]
  },
  {
   "cell_type": "code",
   "execution_count": 41,
   "metadata": {},
   "outputs": [
    {
     "name": "stdout",
     "output_type": "stream",
     "text": [
      "Confusion Matrix:\n",
      " [[5029  898]\n",
      " [ 421 6248]]\n",
      "Classification Report:\n",
      "               precision    recall  f1-score   support\n",
      "\n",
      "     anomaly       0.92      0.85      0.88      5927\n",
      "      normal       0.87      0.94      0.90      6669\n",
      "\n",
      "    accuracy                           0.90     12596\n",
      "   macro avg       0.90      0.89      0.89     12596\n",
      "weighted avg       0.90      0.90      0.89     12596\n",
      "\n"
     ]
    },
    {
     "data": {
      "text/plain": [
       "<AxesSubplot:>"
      ]
     },
     "execution_count": 41,
     "metadata": {},
     "output_type": "execute_result"
    },
    {
     "data": {
      "image/png": "[encoded data removed]",
      "text/plain": [
       "<Figure size 432x288 with 2 Axes>"
      ]
     },
     "metadata": {
      "needs_background": "light"
     },
     "output_type": "display_data"
    }
   ],
   "source": [
    "cm6=confusion_matrix(y_test, y_pred)\n",
    "print(\"Confusion Matrix:\\n\",cm6)\n",
    "cr6=classification_report(y_test, y_pred)\n",
    "print(\"Classification Report:\\n\",cr6)\n",
    "sns.heatmap(cm6, annot=True)"
   ]
  },
  {
   "cell_type": "markdown",
   "metadata": {},
   "source": [
    "# Support vector machine"
   ]
  },
  {
   "cell_type": "code",
   "execution_count": 42,
   "metadata": {},
   "outputs": [
    {
     "name": "stdout",
     "output_type": "stream",
     "text": [
      "Wall time: 30.2 s\n"
     ]
    }
   ],
   "source": [
    "%%time\n",
    "svm=SVC()\n",
    "execution7=svm.fit(x_train, y_train)\n",
    "y_pred=svm.predict(x_test)"
   ]
  },
  {
   "cell_type": "code",
   "execution_count": 43,
   "metadata": {},
   "outputs": [
    {
     "name": "stdout",
     "output_type": "stream",
     "text": [
      "Accuracy:  52.953318513813905\n"
     ]
    }
   ],
   "source": [
    "nb=svm.score(x_test,y_test)\n",
    "m7=nb*100\n",
    "print(\"Accuracy: \",m7)"
   ]
  },
  {
   "cell_type": "code",
   "execution_count": 44,
   "metadata": {},
   "outputs": [
    {
     "name": "stdout",
     "output_type": "stream",
     "text": [
      "Accuracy using support vector machine:  53.0 %\n"
     ]
    }
   ],
   "source": [
    "score7=accuracy_score(y_test, y_pred) * 100\n",
    "print(\"Accuracy using support vector machine: \", round(score7, 1), \"%\" )"
   ]
  },
  {
   "cell_type": "code",
   "execution_count": 45,
   "metadata": {},
   "outputs": [
    {
     "data": {
      "text/plain": [
       "0.4704668148618609"
      ]
     },
     "execution_count": 45,
     "metadata": {},
     "output_type": "execute_result"
    }
   ],
   "source": [
    "error7=np.mean(y_pred != y_test) # error rate\n",
    "error7"
   ]
  },
  {
   "cell_type": "code",
   "execution_count": 46,
   "metadata": {},
   "outputs": [
    {
     "name": "stdout",
     "output_type": "stream",
     "text": [
      "Confusion Matrix:\n",
      " [[   4 5923]\n",
      " [   3 6666]]\n",
      "Classification Report:\n",
      "               precision    recall  f1-score   support\n",
      "\n",
      "     anomaly       0.57      0.00      0.00      5927\n",
      "      normal       0.53      1.00      0.69      6669\n",
      "\n",
      "    accuracy                           0.53     12596\n",
      "   macro avg       0.55      0.50      0.35     12596\n",
      "weighted avg       0.55      0.53      0.37     12596\n",
      "\n"
     ]
    },
    {
     "data": {
      "text/plain": [
       "<AxesSubplot:>"
      ]
     },
     "execution_count": 46,
     "metadata": {},
     "output_type": "execute_result"
    },
    {
     "data": {
      "image/png": "[encoded data removed]",
      "text/plain": [
       "<Figure size 432x288 with 2 Axes>"
      ]
     },
     "metadata": {
      "needs_background": "light"
     },
     "output_type": "display_data"
    }
   ],
   "source": [
    "cm7=confusion_matrix(y_test, y_pred)\n",
    "print(\"Confusion Matrix:\\n\",cm7)\n",
    "cr7=classification_report(y_test, y_pred)\n",
    "print(\"Classification Report:\\n\",cr7)\n",
    "sns.heatmap(cm7, annot=True)"
   ]
  },
  {
   "cell_type": "markdown",
   "metadata": {},
   "source": [
    "# Logistic regression"
   ]
  },
  {
   "cell_type": "code",
   "execution_count": 47,
   "metadata": {},
   "outputs": [
    {
     "name": "stdout",
     "output_type": "stream",
     "text": [
      "Wall time: 378 ms\n"
     ]
    },
    {
     "name": "stderr",
     "output_type": "stream",
     "text": [
      "D:\\anaconda\\lib\\site-packages\\sklearn\\linear_model\\_logistic.py:762: ConvergenceWarning: lbfgs failed to converge (status=1):\n",
      "STOP: TOTAL NO. of ITERATIONS REACHED LIMIT.\n",
      "\n",
      "Increase the number of iterations (max_iter) or scale the data as shown in:\n",
      "    https://scikit-learn.org/stable/modules/preprocessing.html\n",
      "Please also refer to the documentation for alternative solver options:\n",
      "    https://scikit-learn.org/stable/modules/linear_model.html#logistic-regression\n",
      "  n_iter_i = _check_optimize_result(\n"
     ]
    }
   ],
   "source": [
    "%%time\n",
    "lr= LogisticRegression()\n",
    "execution8=lr.fit(x_train, y_train)\n",
    "y_pred=lr.predict(x_test)"
   ]
  },
  {
   "cell_type": "code",
   "execution_count": 48,
   "metadata": {},
   "outputs": [
    {
     "name": "stdout",
     "output_type": "stream",
     "text": [
      "Accuracy:  87.62305493807558\n"
     ]
    }
   ],
   "source": [
    "nb=lr.score(x_test,y_test)\n",
    "m8=nb*100\n",
    "print(\"Accuracy: \",m8)"
   ]
  },
  {
   "cell_type": "code",
   "execution_count": 49,
   "metadata": {},
   "outputs": [
    {
     "name": "stdout",
     "output_type": "stream",
     "text": [
      "Accuracy using support vector machine:  87.6 %\n"
     ]
    }
   ],
   "source": [
    "score8=accuracy_score(y_test, y_pred) * 100\n",
    "print(\"Accuracy using support vector machine: \", round(score8, 1), \"%\" )"
   ]
  },
  {
   "cell_type": "code",
   "execution_count": 50,
   "metadata": {},
   "outputs": [
    {
     "data": {
      "text/plain": [
       "0.1237694506192442"
      ]
     },
     "execution_count": 50,
     "metadata": {},
     "output_type": "execute_result"
    }
   ],
   "source": [
    "error8=np.mean(y_pred != y_test) # error rate\n",
    "error8"
   ]
  },
  {
   "cell_type": "code",
   "execution_count": 51,
   "metadata": {},
   "outputs": [
    {
     "name": "stdout",
     "output_type": "stream",
     "text": [
      "Confusion Matrix:\n",
      " [[5022  905]\n",
      " [ 654 6015]]\n",
      "Classification Report:\n",
      "               precision    recall  f1-score   support\n",
      "\n",
      "     anomaly       0.88      0.85      0.87      5927\n",
      "      normal       0.87      0.90      0.89      6669\n",
      "\n",
      "    accuracy                           0.88     12596\n",
      "   macro avg       0.88      0.87      0.88     12596\n",
      "weighted avg       0.88      0.88      0.88     12596\n",
      "\n"
     ]
    },
    {
     "data": {
      "text/plain": [
       "<AxesSubplot:>"
      ]
     },
     "execution_count": 51,
     "metadata": {},
     "output_type": "execute_result"
    },
    {
     "data": {
      "image/png": "[encoded data removed]",
      "text/plain": [
       "<Figure size 432x288 with 2 Axes>"
      ]
     },
     "metadata": {
      "needs_background": "light"
     },
     "output_type": "display_data"
    }
   ],
   "source": [
    "cm8=confusion_matrix(y_test, y_pred)\n",
    "print(\"Confusion Matrix:\\n\",cm8)\n",
    "cr8=classification_report(y_test, y_pred)\n",
    "print(\"Classification Report:\\n\",cr8)\n",
    "sns.heatmap(cm7, annot=True)"
   ]
  },
  {
   "cell_type": "markdown",
   "metadata": {},
   "source": [
    "# finalize result\n"
   ]
  },
  {
   "cell_type": "code",
   "execution_count": 52,
   "metadata": {},
   "outputs": [],
   "source": [
    "algorithms=[\"DT\",\"MLP\",\"NN\",\"RF\",\"KNN\",\"NBY\",\"SVM\",\"LR\"]\n",
    "scores=[score1,score2,score3,score4,score5,score6,score7,score8]\n",
    "errors=[error1,error2,error3,error4,error5,error6,error7,error8]\n",
    "executions=[execution1,execution2,execution3,execution4,execution5,execution6,execution7,execution8]\n",
    "# classifications=[cr1,cr2,cr3,cr4,cr5,cr6,cr7]"
   ]
  },
  {
   "cell_type": "code",
   "execution_count": 53,
   "metadata": {},
   "outputs": [],
   "source": [
    "accuracy=pd.DataFrame(scores,algorithms)\n",
    "accuracy.columns=['Accuracy']\n",
    "error=pd.DataFrame(errors,algorithms)\n",
    "error.columns=['Error']\n",
    "execution=pd.DataFrame(executions,algorithms)\n",
    "execution.columns=['Execution']"
   ]
  },
  {
   "cell_type": "code",
   "execution_count": 54,
   "metadata": {},
   "outputs": [
    {
     "data": {
      "text/html": [
       "<div>\n",
       "<style scoped>\n",
       "    .dataframe tbody tr th:only-of-type {\n",
       "        vertical-align: middle;\n",
       "    }\n",
       "\n",
       "    .dataframe tbody tr th {\n",
       "        vertical-align: top;\n",
       "    }\n",
       "\n",
       "    .dataframe thead th {\n",
       "        text-align: right;\n",
       "    }\n",
       "</style>\n",
       "<table border=\"1\" class=\"dataframe\">\n",
       "  <thead>\n",
       "    <tr style=\"text-align: right;\">\n",
       "      <th></th>\n",
       "      <th>Accuracy</th>\n",
       "      <th>Error</th>\n",
       "    </tr>\n",
       "  </thead>\n",
       "  <tbody>\n",
       "    <tr>\n",
       "      <th>DT</th>\n",
       "      <td>99.412512</td>\n",
       "      <td>0.005875</td>\n",
       "    </tr>\n",
       "    <tr>\n",
       "      <th>MLP</th>\n",
       "      <td>95.069863</td>\n",
       "      <td>0.049301</td>\n",
       "    </tr>\n",
       "    <tr>\n",
       "      <th>NN</th>\n",
       "      <td>94.760241</td>\n",
       "      <td>0.052398</td>\n",
       "    </tr>\n",
       "    <tr>\n",
       "      <th>RF</th>\n",
       "      <td>99.658622</td>\n",
       "      <td>0.003414</td>\n",
       "    </tr>\n",
       "    <tr>\n",
       "      <th>KNN</th>\n",
       "      <td>98.348682</td>\n",
       "      <td>0.016513</td>\n",
       "    </tr>\n",
       "    <tr>\n",
       "      <th>NBY</th>\n",
       "      <td>89.528422</td>\n",
       "      <td>0.104716</td>\n",
       "    </tr>\n",
       "    <tr>\n",
       "      <th>SVM</th>\n",
       "      <td>52.953319</td>\n",
       "      <td>0.470467</td>\n",
       "    </tr>\n",
       "    <tr>\n",
       "      <th>LR</th>\n",
       "      <td>87.623055</td>\n",
       "      <td>0.123769</td>\n",
       "    </tr>\n",
       "  </tbody>\n",
       "</table>\n",
       "</div>"
      ],
      "text/plain": [
       "      Accuracy     Error\n",
       "DT   99.412512  0.005875\n",
       "MLP  95.069863  0.049301\n",
       "NN   94.760241  0.052398\n",
       "RF   99.658622  0.003414\n",
       "KNN  98.348682  0.016513\n",
       "NBY  89.528422  0.104716\n",
       "SVM  52.953319  0.470467\n",
       "LR   87.623055  0.123769"
      ]
     },
     "execution_count": 54,
     "metadata": {},
     "output_type": "execute_result"
    }
   ],
   "source": [
    "pd.concat([accuracy, error],axis=1)\n"
   ]
  },
  {
   "cell_type": "code",
   "execution_count": 60,
   "metadata": {},
   "outputs": [
    {
     "data": {
      "text/html": [
       "<div>\n",
       "<style scoped>\n",
       "    .dataframe tbody tr th:only-of-type {\n",
       "        vertical-align: middle;\n",
       "    }\n",
       "\n",
       "    .dataframe tbody tr th {\n",
       "        vertical-align: top;\n",
       "    }\n",
       "\n",
       "    .dataframe thead th {\n",
       "        text-align: right;\n",
       "    }\n",
       "</style>\n",
       "<table border=\"1\" class=\"dataframe\">\n",
       "  <thead>\n",
       "    <tr style=\"text-align: right;\">\n",
       "      <th></th>\n",
       "      <th>Execution</th>\n",
       "    </tr>\n",
       "  </thead>\n",
       "  <tbody>\n",
       "    <tr>\n",
       "      <th>DT</th>\n",
       "      <td>DecisionTreeClassifier()</td>\n",
       "    </tr>\n",
       "    <tr>\n",
       "      <th>MLP</th>\n",
       "      <td>MLPClassifier()</td>\n",
       "    </tr>\n",
       "    <tr>\n",
       "      <th>NN</th>\n",
       "      <td>MLPClassifier()</td>\n",
       "    </tr>\n",
       "    <tr>\n",
       "      <th>RF</th>\n",
       "      <td>(DecisionTreeClassifier(max_features='auto', r...</td>\n",
       "    </tr>\n",
       "    <tr>\n",
       "      <th>KNN</th>\n",
       "      <td>KNeighborsClassifier()</td>\n",
       "    </tr>\n",
       "    <tr>\n",
       "      <th>NBY</th>\n",
       "      <td>BernoulliNB()</td>\n",
       "    </tr>\n",
       "    <tr>\n",
       "      <th>SVM</th>\n",
       "      <td>SVC()</td>\n",
       "    </tr>\n",
       "    <tr>\n",
       "      <th>LR</th>\n",
       "      <td>LogisticRegression()</td>\n",
       "    </tr>\n",
       "  </tbody>\n",
       "</table>\n",
       "</div>"
      ],
      "text/plain": [
       "                                             Execution\n",
       "DT                            DecisionTreeClassifier()\n",
       "MLP                                    MLPClassifier()\n",
       "NN                                     MLPClassifier()\n",
       "RF   (DecisionTreeClassifier(max_features='auto', r...\n",
       "KNN                             KNeighborsClassifier()\n",
       "NBY                                      BernoulliNB()\n",
       "SVM                                              SVC()\n",
       "LR                                LogisticRegression()"
      ]
     },
     "execution_count": 60,
     "metadata": {},
     "output_type": "execute_result"
    }
   ],
   "source": [
    "execution"
   ]
  },
  {
   "cell_type": "code",
   "execution_count": 56,
   "metadata": {},
   "outputs": [
    {
     "data": {
      "image/png": "[encoded data removed]",
      "text/plain": [
       "<Figure size 432x288 with 1 Axes>"
      ]
     },
     "metadata": {
      "needs_background": "light"
     },
     "output_type": "display_data"
    }
   ],
   "source": [
    "plt.bar(algorithms,scores, label=\"Accuracy\")\n",
    "plt.legend()\n",
    "plt.xlabel('Model')\n",
    "plt.ylabel('Accuracy')\n",
    "plt.title('Machine Learning Algorithms Accuracy')\n",
    "plt.show()"
   ]
  },
  {
   "cell_type": "code",
   "execution_count": 57,
   "metadata": {},
   "outputs": [
    {
     "data": {
      "image/png": "[encoded data removed]",
      "text/plain": [
       "<Figure size 432x288 with 1 Axes>"
      ]
     },
     "metadata": {
      "needs_background": "light"
     },
     "output_type": "display_data"
    }
   ],
   "source": [
    "plt.bar(algorithms,errors, label=\"Error_rate\")\n",
    "plt.legend()\n",
    "plt.xlabel('Model')\n",
    "plt.ylabel('Error_rate')\n",
    "plt.title('Machine Learning Algorithms Error_Rate')\n",
    "plt.show()"
   ]
  },
  {
   "cell_type": "code",
   "execution_count": 58,
   "metadata": {},
   "outputs": [
    {
     "data": {
      "text/plain": [
       "'              precision    recall  f1-score   support\\n\\n     anomaly       0.99      0.99      0.99      5927\\n      normal       0.99      0.99      0.99      6669\\n\\n    accuracy                           0.99     12596\\n   macro avg       0.99      0.99      0.99     12596\\nweighted avg       0.99      0.99      0.99     12596\\n'"
      ]
     },
     "execution_count": 58,
     "metadata": {},
     "output_type": "execute_result"
    }
   ],
   "source": [
    "# score_list = [\"f1-score\", \"precision\", \"recall\"]\n",
    "cr1"
   ]
  },
  {
   "cell_type": "code",
   "execution_count": null,
   "metadata": {},
   "outputs": [],
   "source": []
  }
 ],
 "metadata": {
  "kernelspec": {
   "display_name": "Python 3",
   "language": "python",
   "name": "python3"
  },
  "language_info": {
   "codemirror_mode": {
    "name": "ipython",
    "version": 3
   },
   "file_extension": ".py",
   "mimetype": "text/x-python",
   "name": "python",
   "nbconvert_exporter": "python",
   "pygments_lexer": "ipython3",
   "version": "3.8.5"
  }
 },
 "nbformat": 4,
 "nbformat_minor": 4
}
